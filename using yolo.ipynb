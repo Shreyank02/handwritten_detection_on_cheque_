{
 "cells": [
  {
   "cell_type": "code",
   "execution_count": 31,
   "id": "c8700099-7744-470d-8e5e-b16079d572fa",
   "metadata": {},
   "outputs": [],
   "source": [
    "# !pip install torch\n",
    "import torch\n",
    "import numpy as np\n",
    "import pandas as pd\n",
    "import cv2\n",
    "import os\n",
    "from PIL import Image\n",
    "import matplotlib.pyplot as plt"
   ]
  },
  {
   "cell_type": "code",
   "execution_count": 65,
   "id": "463bf1a2-8ec0-4a26-b215-976b2dab2c4b",
   "metadata": {},
   "outputs": [],
   "source": [
    "image_dir = r'C:\\Users\\Lenovo\\DEVELOPERS SECTION\\Cheque_detection_minor\\cheques_data\\Images'\n",
    "\n",
    "supported_formats = ['jpg', 'jpeg', 'png', 'bmp', 'tiff']\n",
    "\n",
    "image_list = []\n",
    "\n",
    "for filename in os.listdir(image_dir):\n",
    "    if any(filename.lower().endswith(ext) for ext in supported_formats):\n",
    "        img_path = os.path.join(image_dir, filename)\n",
    "        img = cv2.imread(img_path)\n",
    "        image_list.append(img)"
   ]
  },
  {
   "cell_type": "code",
   "execution_count": 71,
   "id": "1c3accea-a944-4b12-9e3b-81b4613daa27",
   "metadata": {},
   "outputs": [
    {
     "name": "stderr",
     "output_type": "stream",
     "text": [
      "YOLOv5  2024-11-14 Python-3.12.4 torch-2.5.1+cpu CPU\n",
      "\n",
      "Fusing layers... \n",
      "YOLOv5s summary: 213 layers, 7225885 parameters, 0 gradients, 16.4 GFLOPs\n",
      "Adding AutoShape... \n",
      "C:\\Users\\Lenovo\\DEVELOPERS SECTION\\Cheque_detection_minor\\yolov5\\models\\common.py:892: FutureWarning: `torch.cuda.amp.autocast(args...)` is deprecated. Please use `torch.amp.autocast('cuda', args...)` instead.\n",
      "  with amp.autocast(autocast):\n"
     ]
    },
    {
     "name": "stdout",
     "output_type": "stream",
     "text": [
      "Unexpected data type for result: <class 'str'>\n",
      "Unexpected data type for result: <class 'str'>\n",
      "Unexpected data type for result: <class 'str'>\n",
      "Unexpected data type for result: <class 'str'>\n",
      "Unexpected data type for result: <class 'str'>\n",
      "Unexpected data type for result: <class 'str'>\n",
      "Unexpected data type for result: <class 'str'>\n"
     ]
    },
    {
     "name": "stderr",
     "output_type": "stream",
     "text": [
      "C:\\Users\\Lenovo\\DEVELOPERS SECTION\\Cheque_detection_minor\\yolov5\\models\\common.py:892: FutureWarning: `torch.cuda.amp.autocast(args...)` is deprecated. Please use `torch.amp.autocast('cuda', args...)` instead.\n",
      "  with amp.autocast(autocast):\n"
     ]
    },
    {
     "name": "stdout",
     "output_type": "stream",
     "text": [
      "Unexpected data type for result: <class 'str'>\n",
      "Unexpected data type for result: <class 'str'>\n",
      "Unexpected data type for result: <class 'str'>\n",
      "Unexpected data type for result: <class 'str'>\n",
      "Unexpected data type for result: <class 'str'>\n",
      "Unexpected data type for result: <class 'str'>\n",
      "Unexpected data type for result: <class 'str'>\n"
     ]
    },
    {
     "name": "stderr",
     "output_type": "stream",
     "text": [
      "C:\\Users\\Lenovo\\DEVELOPERS SECTION\\Cheque_detection_minor\\yolov5\\models\\common.py:892: FutureWarning: `torch.cuda.amp.autocast(args...)` is deprecated. Please use `torch.amp.autocast('cuda', args...)` instead.\n",
      "  with amp.autocast(autocast):\n"
     ]
    },
    {
     "name": "stdout",
     "output_type": "stream",
     "text": [
      "Unexpected data type for result: <class 'str'>\n",
      "Unexpected data type for result: <class 'str'>\n",
      "Unexpected data type for result: <class 'str'>\n",
      "Unexpected data type for result: <class 'str'>\n",
      "Unexpected data type for result: <class 'str'>\n",
      "Unexpected data type for result: <class 'str'>\n",
      "Unexpected data type for result: <class 'str'>\n"
     ]
    },
    {
     "name": "stderr",
     "output_type": "stream",
     "text": [
      "C:\\Users\\Lenovo\\DEVELOPERS SECTION\\Cheque_detection_minor\\yolov5\\models\\common.py:892: FutureWarning: `torch.cuda.amp.autocast(args...)` is deprecated. Please use `torch.amp.autocast('cuda', args...)` instead.\n",
      "  with amp.autocast(autocast):\n"
     ]
    },
    {
     "name": "stdout",
     "output_type": "stream",
     "text": [
      "Unexpected data type for result: <class 'str'>\n",
      "Unexpected data type for result: <class 'str'>\n",
      "Unexpected data type for result: <class 'str'>\n",
      "Unexpected data type for result: <class 'str'>\n",
      "Unexpected data type for result: <class 'str'>\n",
      "Unexpected data type for result: <class 'str'>\n",
      "Unexpected data type for result: <class 'str'>\n"
     ]
    },
    {
     "name": "stderr",
     "output_type": "stream",
     "text": [
      "C:\\Users\\Lenovo\\DEVELOPERS SECTION\\Cheque_detection_minor\\yolov5\\models\\common.py:892: FutureWarning: `torch.cuda.amp.autocast(args...)` is deprecated. Please use `torch.amp.autocast('cuda', args...)` instead.\n",
      "  with amp.autocast(autocast):\n"
     ]
    },
    {
     "name": "stdout",
     "output_type": "stream",
     "text": [
      "Unexpected data type for result: <class 'str'>\n",
      "Unexpected data type for result: <class 'str'>\n",
      "Unexpected data type for result: <class 'str'>\n",
      "Unexpected data type for result: <class 'str'>\n",
      "Unexpected data type for result: <class 'str'>\n",
      "Unexpected data type for result: <class 'str'>\n",
      "Unexpected data type for result: <class 'str'>\n"
     ]
    },
    {
     "name": "stderr",
     "output_type": "stream",
     "text": [
      "C:\\Users\\Lenovo\\DEVELOPERS SECTION\\Cheque_detection_minor\\yolov5\\models\\common.py:892: FutureWarning: `torch.cuda.amp.autocast(args...)` is deprecated. Please use `torch.amp.autocast('cuda', args...)` instead.\n",
      "  with amp.autocast(autocast):\n"
     ]
    },
    {
     "name": "stdout",
     "output_type": "stream",
     "text": [
      "Unexpected data type for result: <class 'str'>\n",
      "Unexpected data type for result: <class 'str'>\n",
      "Unexpected data type for result: <class 'str'>\n",
      "Unexpected data type for result: <class 'str'>\n",
      "Unexpected data type for result: <class 'str'>\n",
      "Unexpected data type for result: <class 'str'>\n",
      "Unexpected data type for result: <class 'str'>\n"
     ]
    },
    {
     "name": "stderr",
     "output_type": "stream",
     "text": [
      "C:\\Users\\Lenovo\\DEVELOPERS SECTION\\Cheque_detection_minor\\yolov5\\models\\common.py:892: FutureWarning: `torch.cuda.amp.autocast(args...)` is deprecated. Please use `torch.amp.autocast('cuda', args...)` instead.\n",
      "  with amp.autocast(autocast):\n"
     ]
    },
    {
     "name": "stdout",
     "output_type": "stream",
     "text": [
      "Unexpected data type for result: <class 'str'>\n",
      "Unexpected data type for result: <class 'str'>\n",
      "Unexpected data type for result: <class 'str'>\n",
      "Unexpected data type for result: <class 'str'>\n",
      "Unexpected data type for result: <class 'str'>\n",
      "Unexpected data type for result: <class 'str'>\n",
      "Unexpected data type for result: <class 'str'>\n"
     ]
    },
    {
     "name": "stderr",
     "output_type": "stream",
     "text": [
      "C:\\Users\\Lenovo\\DEVELOPERS SECTION\\Cheque_detection_minor\\yolov5\\models\\common.py:892: FutureWarning: `torch.cuda.amp.autocast(args...)` is deprecated. Please use `torch.amp.autocast('cuda', args...)` instead.\n",
      "  with amp.autocast(autocast):\n"
     ]
    },
    {
     "name": "stdout",
     "output_type": "stream",
     "text": [
      "Unexpected data type for result: <class 'str'>\n",
      "Unexpected data type for result: <class 'str'>\n",
      "Unexpected data type for result: <class 'str'>\n",
      "Unexpected data type for result: <class 'str'>\n",
      "Unexpected data type for result: <class 'str'>\n",
      "Unexpected data type for result: <class 'str'>\n",
      "Unexpected data type for result: <class 'str'>\n"
     ]
    },
    {
     "name": "stderr",
     "output_type": "stream",
     "text": [
      "C:\\Users\\Lenovo\\DEVELOPERS SECTION\\Cheque_detection_minor\\yolov5\\models\\common.py:892: FutureWarning: `torch.cuda.amp.autocast(args...)` is deprecated. Please use `torch.amp.autocast('cuda', args...)` instead.\n",
      "  with amp.autocast(autocast):\n"
     ]
    },
    {
     "name": "stdout",
     "output_type": "stream",
     "text": [
      "Unexpected data type for result: <class 'str'>\n",
      "Unexpected data type for result: <class 'str'>\n",
      "Unexpected data type for result: <class 'str'>\n",
      "Unexpected data type for result: <class 'str'>\n",
      "Unexpected data type for result: <class 'str'>\n",
      "Unexpected data type for result: <class 'str'>\n",
      "Unexpected data type for result: <class 'str'>\n"
     ]
    },
    {
     "name": "stderr",
     "output_type": "stream",
     "text": [
      "C:\\Users\\Lenovo\\DEVELOPERS SECTION\\Cheque_detection_minor\\yolov5\\models\\common.py:892: FutureWarning: `torch.cuda.amp.autocast(args...)` is deprecated. Please use `torch.amp.autocast('cuda', args...)` instead.\n",
      "  with amp.autocast(autocast):\n"
     ]
    },
    {
     "name": "stdout",
     "output_type": "stream",
     "text": [
      "Unexpected data type for result: <class 'str'>\n",
      "Unexpected data type for result: <class 'str'>\n",
      "Unexpected data type for result: <class 'str'>\n",
      "Unexpected data type for result: <class 'str'>\n",
      "Unexpected data type for result: <class 'str'>\n",
      "Unexpected data type for result: <class 'str'>\n",
      "Unexpected data type for result: <class 'str'>\n"
     ]
    },
    {
     "name": "stderr",
     "output_type": "stream",
     "text": [
      "C:\\Users\\Lenovo\\DEVELOPERS SECTION\\Cheque_detection_minor\\yolov5\\models\\common.py:892: FutureWarning: `torch.cuda.amp.autocast(args...)` is deprecated. Please use `torch.amp.autocast('cuda', args...)` instead.\n",
      "  with amp.autocast(autocast):\n"
     ]
    },
    {
     "name": "stdout",
     "output_type": "stream",
     "text": [
      "Unexpected data type for result: <class 'str'>\n",
      "Unexpected data type for result: <class 'str'>\n",
      "Unexpected data type for result: <class 'str'>\n",
      "Unexpected data type for result: <class 'str'>\n",
      "Unexpected data type for result: <class 'str'>\n",
      "Unexpected data type for result: <class 'str'>\n",
      "Unexpected data type for result: <class 'str'>\n"
     ]
    },
    {
     "name": "stderr",
     "output_type": "stream",
     "text": [
      "C:\\Users\\Lenovo\\DEVELOPERS SECTION\\Cheque_detection_minor\\yolov5\\models\\common.py:892: FutureWarning: `torch.cuda.amp.autocast(args...)` is deprecated. Please use `torch.amp.autocast('cuda', args...)` instead.\n",
      "  with amp.autocast(autocast):\n"
     ]
    },
    {
     "name": "stdout",
     "output_type": "stream",
     "text": [
      "Unexpected data type for result: <class 'str'>\n",
      "Unexpected data type for result: <class 'str'>\n",
      "Unexpected data type for result: <class 'str'>\n",
      "Unexpected data type for result: <class 'str'>\n",
      "Unexpected data type for result: <class 'str'>\n",
      "Unexpected data type for result: <class 'str'>\n",
      "Unexpected data type for result: <class 'str'>\n"
     ]
    },
    {
     "name": "stderr",
     "output_type": "stream",
     "text": [
      "C:\\Users\\Lenovo\\DEVELOPERS SECTION\\Cheque_detection_minor\\yolov5\\models\\common.py:892: FutureWarning: `torch.cuda.amp.autocast(args...)` is deprecated. Please use `torch.amp.autocast('cuda', args...)` instead.\n",
      "  with amp.autocast(autocast):\n"
     ]
    },
    {
     "name": "stdout",
     "output_type": "stream",
     "text": [
      "Unexpected data type for result: <class 'str'>\n",
      "Unexpected data type for result: <class 'str'>\n",
      "Unexpected data type for result: <class 'str'>\n",
      "Unexpected data type for result: <class 'str'>\n",
      "Unexpected data type for result: <class 'str'>\n",
      "Unexpected data type for result: <class 'str'>\n",
      "Unexpected data type for result: <class 'str'>\n"
     ]
    },
    {
     "name": "stderr",
     "output_type": "stream",
     "text": [
      "C:\\Users\\Lenovo\\DEVELOPERS SECTION\\Cheque_detection_minor\\yolov5\\models\\common.py:892: FutureWarning: `torch.cuda.amp.autocast(args...)` is deprecated. Please use `torch.amp.autocast('cuda', args...)` instead.\n",
      "  with amp.autocast(autocast):\n"
     ]
    },
    {
     "name": "stdout",
     "output_type": "stream",
     "text": [
      "Unexpected data type for result: <class 'str'>\n",
      "Unexpected data type for result: <class 'str'>\n",
      "Unexpected data type for result: <class 'str'>\n",
      "Unexpected data type for result: <class 'str'>\n",
      "Unexpected data type for result: <class 'str'>\n",
      "Unexpected data type for result: <class 'str'>\n",
      "Unexpected data type for result: <class 'str'>\n"
     ]
    },
    {
     "name": "stderr",
     "output_type": "stream",
     "text": [
      "C:\\Users\\Lenovo\\DEVELOPERS SECTION\\Cheque_detection_minor\\yolov5\\models\\common.py:892: FutureWarning: `torch.cuda.amp.autocast(args...)` is deprecated. Please use `torch.amp.autocast('cuda', args...)` instead.\n",
      "  with amp.autocast(autocast):\n"
     ]
    },
    {
     "name": "stdout",
     "output_type": "stream",
     "text": [
      "Unexpected data type for result: <class 'str'>\n",
      "Unexpected data type for result: <class 'str'>\n",
      "Unexpected data type for result: <class 'str'>\n",
      "Unexpected data type for result: <class 'str'>\n",
      "Unexpected data type for result: <class 'str'>\n",
      "Unexpected data type for result: <class 'str'>\n",
      "Unexpected data type for result: <class 'str'>\n"
     ]
    },
    {
     "name": "stderr",
     "output_type": "stream",
     "text": [
      "C:\\Users\\Lenovo\\DEVELOPERS SECTION\\Cheque_detection_minor\\yolov5\\models\\common.py:892: FutureWarning: `torch.cuda.amp.autocast(args...)` is deprecated. Please use `torch.amp.autocast('cuda', args...)` instead.\n",
      "  with amp.autocast(autocast):\n"
     ]
    },
    {
     "name": "stdout",
     "output_type": "stream",
     "text": [
      "Unexpected data type for result: <class 'str'>\n",
      "Unexpected data type for result: <class 'str'>\n",
      "Unexpected data type for result: <class 'str'>\n",
      "Unexpected data type for result: <class 'str'>\n",
      "Unexpected data type for result: <class 'str'>\n",
      "Unexpected data type for result: <class 'str'>\n",
      "Unexpected data type for result: <class 'str'>\n"
     ]
    },
    {
     "name": "stderr",
     "output_type": "stream",
     "text": [
      "C:\\Users\\Lenovo\\DEVELOPERS SECTION\\Cheque_detection_minor\\yolov5\\models\\common.py:892: FutureWarning: `torch.cuda.amp.autocast(args...)` is deprecated. Please use `torch.amp.autocast('cuda', args...)` instead.\n",
      "  with amp.autocast(autocast):\n"
     ]
    },
    {
     "name": "stdout",
     "output_type": "stream",
     "text": [
      "Unexpected data type for result: <class 'str'>\n",
      "Unexpected data type for result: <class 'str'>\n",
      "Unexpected data type for result: <class 'str'>\n",
      "Unexpected data type for result: <class 'str'>\n",
      "Unexpected data type for result: <class 'str'>\n",
      "Unexpected data type for result: <class 'str'>\n",
      "Unexpected data type for result: <class 'str'>\n"
     ]
    },
    {
     "name": "stderr",
     "output_type": "stream",
     "text": [
      "C:\\Users\\Lenovo\\DEVELOPERS SECTION\\Cheque_detection_minor\\yolov5\\models\\common.py:892: FutureWarning: `torch.cuda.amp.autocast(args...)` is deprecated. Please use `torch.amp.autocast('cuda', args...)` instead.\n",
      "  with amp.autocast(autocast):\n"
     ]
    },
    {
     "name": "stdout",
     "output_type": "stream",
     "text": [
      "Unexpected data type for result: <class 'str'>\n",
      "Unexpected data type for result: <class 'str'>\n",
      "Unexpected data type for result: <class 'str'>\n",
      "Unexpected data type for result: <class 'str'>\n",
      "Unexpected data type for result: <class 'str'>\n",
      "Unexpected data type for result: <class 'str'>\n",
      "Unexpected data type for result: <class 'str'>\n"
     ]
    },
    {
     "name": "stderr",
     "output_type": "stream",
     "text": [
      "C:\\Users\\Lenovo\\DEVELOPERS SECTION\\Cheque_detection_minor\\yolov5\\models\\common.py:892: FutureWarning: `torch.cuda.amp.autocast(args...)` is deprecated. Please use `torch.amp.autocast('cuda', args...)` instead.\n",
      "  with amp.autocast(autocast):\n"
     ]
    },
    {
     "name": "stdout",
     "output_type": "stream",
     "text": [
      "Unexpected data type for result: <class 'str'>\n",
      "Unexpected data type for result: <class 'str'>\n",
      "Unexpected data type for result: <class 'str'>\n",
      "Unexpected data type for result: <class 'str'>\n",
      "Unexpected data type for result: <class 'str'>\n",
      "Unexpected data type for result: <class 'str'>\n",
      "Unexpected data type for result: <class 'str'>\n"
     ]
    },
    {
     "name": "stderr",
     "output_type": "stream",
     "text": [
      "C:\\Users\\Lenovo\\DEVELOPERS SECTION\\Cheque_detection_minor\\yolov5\\models\\common.py:892: FutureWarning: `torch.cuda.amp.autocast(args...)` is deprecated. Please use `torch.amp.autocast('cuda', args...)` instead.\n",
      "  with amp.autocast(autocast):\n"
     ]
    },
    {
     "name": "stdout",
     "output_type": "stream",
     "text": [
      "Unexpected data type for result: <class 'str'>\n",
      "Unexpected data type for result: <class 'str'>\n",
      "Unexpected data type for result: <class 'str'>\n",
      "Unexpected data type for result: <class 'str'>\n",
      "Unexpected data type for result: <class 'str'>\n",
      "Unexpected data type for result: <class 'str'>\n",
      "Unexpected data type for result: <class 'str'>\n"
     ]
    },
    {
     "name": "stderr",
     "output_type": "stream",
     "text": [
      "C:\\Users\\Lenovo\\DEVELOPERS SECTION\\Cheque_detection_minor\\yolov5\\models\\common.py:892: FutureWarning: `torch.cuda.amp.autocast(args...)` is deprecated. Please use `torch.amp.autocast('cuda', args...)` instead.\n",
      "  with amp.autocast(autocast):\n"
     ]
    },
    {
     "name": "stdout",
     "output_type": "stream",
     "text": [
      "Unexpected data type for result: <class 'str'>\n",
      "Unexpected data type for result: <class 'str'>\n",
      "Unexpected data type for result: <class 'str'>\n",
      "Unexpected data type for result: <class 'str'>\n",
      "Unexpected data type for result: <class 'str'>\n",
      "Unexpected data type for result: <class 'str'>\n",
      "Unexpected data type for result: <class 'str'>\n"
     ]
    },
    {
     "name": "stderr",
     "output_type": "stream",
     "text": [
      "C:\\Users\\Lenovo\\DEVELOPERS SECTION\\Cheque_detection_minor\\yolov5\\models\\common.py:892: FutureWarning: `torch.cuda.amp.autocast(args...)` is deprecated. Please use `torch.amp.autocast('cuda', args...)` instead.\n",
      "  with amp.autocast(autocast):\n"
     ]
    },
    {
     "name": "stdout",
     "output_type": "stream",
     "text": [
      "Unexpected data type for result: <class 'str'>\n",
      "Unexpected data type for result: <class 'str'>\n",
      "Unexpected data type for result: <class 'str'>\n",
      "Unexpected data type for result: <class 'str'>\n",
      "Unexpected data type for result: <class 'str'>\n",
      "Unexpected data type for result: <class 'str'>\n",
      "Unexpected data type for result: <class 'str'>\n"
     ]
    },
    {
     "name": "stderr",
     "output_type": "stream",
     "text": [
      "C:\\Users\\Lenovo\\DEVELOPERS SECTION\\Cheque_detection_minor\\yolov5\\models\\common.py:892: FutureWarning: `torch.cuda.amp.autocast(args...)` is deprecated. Please use `torch.amp.autocast('cuda', args...)` instead.\n",
      "  with amp.autocast(autocast):\n"
     ]
    },
    {
     "name": "stdout",
     "output_type": "stream",
     "text": [
      "Unexpected data type for result: <class 'str'>\n",
      "Unexpected data type for result: <class 'str'>\n",
      "Unexpected data type for result: <class 'str'>\n",
      "Unexpected data type for result: <class 'str'>\n",
      "Unexpected data type for result: <class 'str'>\n",
      "Unexpected data type for result: <class 'str'>\n",
      "Unexpected data type for result: <class 'str'>\n"
     ]
    },
    {
     "name": "stderr",
     "output_type": "stream",
     "text": [
      "C:\\Users\\Lenovo\\DEVELOPERS SECTION\\Cheque_detection_minor\\yolov5\\models\\common.py:892: FutureWarning: `torch.cuda.amp.autocast(args...)` is deprecated. Please use `torch.amp.autocast('cuda', args...)` instead.\n",
      "  with amp.autocast(autocast):\n"
     ]
    },
    {
     "name": "stdout",
     "output_type": "stream",
     "text": [
      "Unexpected data type for result: <class 'str'>\n",
      "Unexpected data type for result: <class 'str'>\n",
      "Unexpected data type for result: <class 'str'>\n",
      "Unexpected data type for result: <class 'str'>\n",
      "Unexpected data type for result: <class 'str'>\n",
      "Unexpected data type for result: <class 'str'>\n",
      "Unexpected data type for result: <class 'str'>\n"
     ]
    },
    {
     "name": "stderr",
     "output_type": "stream",
     "text": [
      "C:\\Users\\Lenovo\\DEVELOPERS SECTION\\Cheque_detection_minor\\yolov5\\models\\common.py:892: FutureWarning: `torch.cuda.amp.autocast(args...)` is deprecated. Please use `torch.amp.autocast('cuda', args...)` instead.\n",
      "  with amp.autocast(autocast):\n"
     ]
    },
    {
     "name": "stdout",
     "output_type": "stream",
     "text": [
      "Unexpected data type for result: <class 'str'>\n",
      "Unexpected data type for result: <class 'str'>\n",
      "Unexpected data type for result: <class 'str'>\n",
      "Unexpected data type for result: <class 'str'>\n",
      "Unexpected data type for result: <class 'str'>\n",
      "Unexpected data type for result: <class 'str'>\n",
      "Unexpected data type for result: <class 'str'>\n"
     ]
    },
    {
     "name": "stderr",
     "output_type": "stream",
     "text": [
      "C:\\Users\\Lenovo\\DEVELOPERS SECTION\\Cheque_detection_minor\\yolov5\\models\\common.py:892: FutureWarning: `torch.cuda.amp.autocast(args...)` is deprecated. Please use `torch.amp.autocast('cuda', args...)` instead.\n",
      "  with amp.autocast(autocast):\n"
     ]
    },
    {
     "name": "stdout",
     "output_type": "stream",
     "text": [
      "Unexpected data type for result: <class 'str'>\n",
      "Unexpected data type for result: <class 'str'>\n",
      "Unexpected data type for result: <class 'str'>\n",
      "Unexpected data type for result: <class 'str'>\n",
      "Unexpected data type for result: <class 'str'>\n",
      "Unexpected data type for result: <class 'str'>\n",
      "Unexpected data type for result: <class 'str'>\n"
     ]
    },
    {
     "name": "stderr",
     "output_type": "stream",
     "text": [
      "C:\\Users\\Lenovo\\DEVELOPERS SECTION\\Cheque_detection_minor\\yolov5\\models\\common.py:892: FutureWarning: `torch.cuda.amp.autocast(args...)` is deprecated. Please use `torch.amp.autocast('cuda', args...)` instead.\n",
      "  with amp.autocast(autocast):\n"
     ]
    },
    {
     "name": "stdout",
     "output_type": "stream",
     "text": [
      "Unexpected data type for result: <class 'str'>\n",
      "Unexpected data type for result: <class 'str'>\n",
      "Unexpected data type for result: <class 'str'>\n",
      "Unexpected data type for result: <class 'str'>\n",
      "Unexpected data type for result: <class 'str'>\n",
      "Unexpected data type for result: <class 'str'>\n",
      "Unexpected data type for result: <class 'str'>\n"
     ]
    },
    {
     "name": "stderr",
     "output_type": "stream",
     "text": [
      "C:\\Users\\Lenovo\\DEVELOPERS SECTION\\Cheque_detection_minor\\yolov5\\models\\common.py:892: FutureWarning: `torch.cuda.amp.autocast(args...)` is deprecated. Please use `torch.amp.autocast('cuda', args...)` instead.\n",
      "  with amp.autocast(autocast):\n"
     ]
    },
    {
     "name": "stdout",
     "output_type": "stream",
     "text": [
      "Unexpected data type for result: <class 'str'>\n",
      "Unexpected data type for result: <class 'str'>\n",
      "Unexpected data type for result: <class 'str'>\n",
      "Unexpected data type for result: <class 'str'>\n",
      "Unexpected data type for result: <class 'str'>\n",
      "Unexpected data type for result: <class 'str'>\n",
      "Unexpected data type for result: <class 'str'>\n"
     ]
    },
    {
     "name": "stderr",
     "output_type": "stream",
     "text": [
      "C:\\Users\\Lenovo\\DEVELOPERS SECTION\\Cheque_detection_minor\\yolov5\\models\\common.py:892: FutureWarning: `torch.cuda.amp.autocast(args...)` is deprecated. Please use `torch.amp.autocast('cuda', args...)` instead.\n",
      "  with amp.autocast(autocast):\n"
     ]
    },
    {
     "name": "stdout",
     "output_type": "stream",
     "text": [
      "Unexpected data type for result: <class 'str'>\n",
      "Unexpected data type for result: <class 'str'>\n",
      "Unexpected data type for result: <class 'str'>\n",
      "Unexpected data type for result: <class 'str'>\n",
      "Unexpected data type for result: <class 'str'>\n",
      "Unexpected data type for result: <class 'str'>\n",
      "Unexpected data type for result: <class 'str'>\n"
     ]
    },
    {
     "name": "stderr",
     "output_type": "stream",
     "text": [
      "C:\\Users\\Lenovo\\DEVELOPERS SECTION\\Cheque_detection_minor\\yolov5\\models\\common.py:892: FutureWarning: `torch.cuda.amp.autocast(args...)` is deprecated. Please use `torch.amp.autocast('cuda', args...)` instead.\n",
      "  with amp.autocast(autocast):\n"
     ]
    },
    {
     "name": "stdout",
     "output_type": "stream",
     "text": [
      "Unexpected data type for result: <class 'str'>\n",
      "Unexpected data type for result: <class 'str'>\n",
      "Unexpected data type for result: <class 'str'>\n",
      "Unexpected data type for result: <class 'str'>\n",
      "Unexpected data type for result: <class 'str'>\n",
      "Unexpected data type for result: <class 'str'>\n",
      "Unexpected data type for result: <class 'str'>\n"
     ]
    },
    {
     "name": "stderr",
     "output_type": "stream",
     "text": [
      "C:\\Users\\Lenovo\\DEVELOPERS SECTION\\Cheque_detection_minor\\yolov5\\models\\common.py:892: FutureWarning: `torch.cuda.amp.autocast(args...)` is deprecated. Please use `torch.amp.autocast('cuda', args...)` instead.\n",
      "  with amp.autocast(autocast):\n"
     ]
    },
    {
     "name": "stdout",
     "output_type": "stream",
     "text": [
      "Unexpected data type for result: <class 'str'>\n",
      "Unexpected data type for result: <class 'str'>\n",
      "Unexpected data type for result: <class 'str'>\n",
      "Unexpected data type for result: <class 'str'>\n",
      "Unexpected data type for result: <class 'str'>\n",
      "Unexpected data type for result: <class 'str'>\n",
      "Unexpected data type for result: <class 'str'>\n"
     ]
    },
    {
     "name": "stderr",
     "output_type": "stream",
     "text": [
      "C:\\Users\\Lenovo\\DEVELOPERS SECTION\\Cheque_detection_minor\\yolov5\\models\\common.py:892: FutureWarning: `torch.cuda.amp.autocast(args...)` is deprecated. Please use `torch.amp.autocast('cuda', args...)` instead.\n",
      "  with amp.autocast(autocast):\n"
     ]
    },
    {
     "name": "stdout",
     "output_type": "stream",
     "text": [
      "Unexpected data type for result: <class 'str'>\n",
      "Unexpected data type for result: <class 'str'>\n",
      "Unexpected data type for result: <class 'str'>\n",
      "Unexpected data type for result: <class 'str'>\n",
      "Unexpected data type for result: <class 'str'>\n",
      "Unexpected data type for result: <class 'str'>\n",
      "Unexpected data type for result: <class 'str'>\n"
     ]
    },
    {
     "name": "stderr",
     "output_type": "stream",
     "text": [
      "C:\\Users\\Lenovo\\DEVELOPERS SECTION\\Cheque_detection_minor\\yolov5\\models\\common.py:892: FutureWarning: `torch.cuda.amp.autocast(args...)` is deprecated. Please use `torch.amp.autocast('cuda', args...)` instead.\n",
      "  with amp.autocast(autocast):\n"
     ]
    },
    {
     "name": "stdout",
     "output_type": "stream",
     "text": [
      "Unexpected data type for result: <class 'str'>\n",
      "Unexpected data type for result: <class 'str'>\n",
      "Unexpected data type for result: <class 'str'>\n",
      "Unexpected data type for result: <class 'str'>\n",
      "Unexpected data type for result: <class 'str'>\n",
      "Unexpected data type for result: <class 'str'>\n",
      "Unexpected data type for result: <class 'str'>\n"
     ]
    },
    {
     "name": "stderr",
     "output_type": "stream",
     "text": [
      "C:\\Users\\Lenovo\\DEVELOPERS SECTION\\Cheque_detection_minor\\yolov5\\models\\common.py:892: FutureWarning: `torch.cuda.amp.autocast(args...)` is deprecated. Please use `torch.amp.autocast('cuda', args...)` instead.\n",
      "  with amp.autocast(autocast):\n"
     ]
    },
    {
     "name": "stdout",
     "output_type": "stream",
     "text": [
      "Unexpected data type for result: <class 'str'>\n",
      "Unexpected data type for result: <class 'str'>\n",
      "Unexpected data type for result: <class 'str'>\n",
      "Unexpected data type for result: <class 'str'>\n",
      "Unexpected data type for result: <class 'str'>\n",
      "Unexpected data type for result: <class 'str'>\n",
      "Unexpected data type for result: <class 'str'>\n"
     ]
    },
    {
     "name": "stderr",
     "output_type": "stream",
     "text": [
      "C:\\Users\\Lenovo\\DEVELOPERS SECTION\\Cheque_detection_minor\\yolov5\\models\\common.py:892: FutureWarning: `torch.cuda.amp.autocast(args...)` is deprecated. Please use `torch.amp.autocast('cuda', args...)` instead.\n",
      "  with amp.autocast(autocast):\n"
     ]
    },
    {
     "name": "stdout",
     "output_type": "stream",
     "text": [
      "Unexpected data type for result: <class 'str'>\n",
      "Unexpected data type for result: <class 'str'>\n",
      "Unexpected data type for result: <class 'str'>\n",
      "Unexpected data type for result: <class 'str'>\n",
      "Unexpected data type for result: <class 'str'>\n",
      "Unexpected data type for result: <class 'str'>\n",
      "Unexpected data type for result: <class 'str'>\n"
     ]
    },
    {
     "name": "stderr",
     "output_type": "stream",
     "text": [
      "C:\\Users\\Lenovo\\DEVELOPERS SECTION\\Cheque_detection_minor\\yolov5\\models\\common.py:892: FutureWarning: `torch.cuda.amp.autocast(args...)` is deprecated. Please use `torch.amp.autocast('cuda', args...)` instead.\n",
      "  with amp.autocast(autocast):\n"
     ]
    },
    {
     "name": "stdout",
     "output_type": "stream",
     "text": [
      "Unexpected data type for result: <class 'str'>\n",
      "Unexpected data type for result: <class 'str'>\n",
      "Unexpected data type for result: <class 'str'>\n",
      "Unexpected data type for result: <class 'str'>\n",
      "Unexpected data type for result: <class 'str'>\n",
      "Unexpected data type for result: <class 'str'>\n",
      "Unexpected data type for result: <class 'str'>\n"
     ]
    },
    {
     "name": "stderr",
     "output_type": "stream",
     "text": [
      "C:\\Users\\Lenovo\\DEVELOPERS SECTION\\Cheque_detection_minor\\yolov5\\models\\common.py:892: FutureWarning: `torch.cuda.amp.autocast(args...)` is deprecated. Please use `torch.amp.autocast('cuda', args...)` instead.\n",
      "  with amp.autocast(autocast):\n"
     ]
    },
    {
     "name": "stdout",
     "output_type": "stream",
     "text": [
      "Unexpected data type for result: <class 'str'>\n",
      "Unexpected data type for result: <class 'str'>\n",
      "Unexpected data type for result: <class 'str'>\n",
      "Unexpected data type for result: <class 'str'>\n",
      "Unexpected data type for result: <class 'str'>\n",
      "Unexpected data type for result: <class 'str'>\n",
      "Unexpected data type for result: <class 'str'>\n"
     ]
    },
    {
     "name": "stderr",
     "output_type": "stream",
     "text": [
      "C:\\Users\\Lenovo\\DEVELOPERS SECTION\\Cheque_detection_minor\\yolov5\\models\\common.py:892: FutureWarning: `torch.cuda.amp.autocast(args...)` is deprecated. Please use `torch.amp.autocast('cuda', args...)` instead.\n",
      "  with amp.autocast(autocast):\n"
     ]
    },
    {
     "name": "stdout",
     "output_type": "stream",
     "text": [
      "Unexpected data type for result: <class 'str'>\n",
      "Unexpected data type for result: <class 'str'>\n",
      "Unexpected data type for result: <class 'str'>\n",
      "Unexpected data type for result: <class 'str'>\n",
      "Unexpected data type for result: <class 'str'>\n",
      "Unexpected data type for result: <class 'str'>\n",
      "Unexpected data type for result: <class 'str'>\n"
     ]
    },
    {
     "name": "stderr",
     "output_type": "stream",
     "text": [
      "C:\\Users\\Lenovo\\DEVELOPERS SECTION\\Cheque_detection_minor\\yolov5\\models\\common.py:892: FutureWarning: `torch.cuda.amp.autocast(args...)` is deprecated. Please use `torch.amp.autocast('cuda', args...)` instead.\n",
      "  with amp.autocast(autocast):\n"
     ]
    },
    {
     "name": "stdout",
     "output_type": "stream",
     "text": [
      "Unexpected data type for result: <class 'str'>\n",
      "Unexpected data type for result: <class 'str'>\n",
      "Unexpected data type for result: <class 'str'>\n",
      "Unexpected data type for result: <class 'str'>\n",
      "Unexpected data type for result: <class 'str'>\n",
      "Unexpected data type for result: <class 'str'>\n",
      "Unexpected data type for result: <class 'str'>\n"
     ]
    },
    {
     "name": "stderr",
     "output_type": "stream",
     "text": [
      "C:\\Users\\Lenovo\\DEVELOPERS SECTION\\Cheque_detection_minor\\yolov5\\models\\common.py:892: FutureWarning: `torch.cuda.amp.autocast(args...)` is deprecated. Please use `torch.amp.autocast('cuda', args...)` instead.\n",
      "  with amp.autocast(autocast):\n"
     ]
    },
    {
     "name": "stdout",
     "output_type": "stream",
     "text": [
      "Unexpected data type for result: <class 'str'>\n",
      "Unexpected data type for result: <class 'str'>\n",
      "Unexpected data type for result: <class 'str'>\n",
      "Unexpected data type for result: <class 'str'>\n",
      "Unexpected data type for result: <class 'str'>\n",
      "Unexpected data type for result: <class 'str'>\n",
      "Unexpected data type for result: <class 'str'>\n"
     ]
    },
    {
     "name": "stderr",
     "output_type": "stream",
     "text": [
      "C:\\Users\\Lenovo\\DEVELOPERS SECTION\\Cheque_detection_minor\\yolov5\\models\\common.py:892: FutureWarning: `torch.cuda.amp.autocast(args...)` is deprecated. Please use `torch.amp.autocast('cuda', args...)` instead.\n",
      "  with amp.autocast(autocast):\n"
     ]
    },
    {
     "name": "stdout",
     "output_type": "stream",
     "text": [
      "Unexpected data type for result: <class 'str'>\n",
      "Unexpected data type for result: <class 'str'>\n",
      "Unexpected data type for result: <class 'str'>\n",
      "Unexpected data type for result: <class 'str'>\n",
      "Unexpected data type for result: <class 'str'>\n",
      "Unexpected data type for result: <class 'str'>\n",
      "Unexpected data type for result: <class 'str'>\n"
     ]
    },
    {
     "name": "stderr",
     "output_type": "stream",
     "text": [
      "C:\\Users\\Lenovo\\DEVELOPERS SECTION\\Cheque_detection_minor\\yolov5\\models\\common.py:892: FutureWarning: `torch.cuda.amp.autocast(args...)` is deprecated. Please use `torch.amp.autocast('cuda', args...)` instead.\n",
      "  with amp.autocast(autocast):\n"
     ]
    },
    {
     "name": "stdout",
     "output_type": "stream",
     "text": [
      "Unexpected data type for result: <class 'str'>\n",
      "Unexpected data type for result: <class 'str'>\n",
      "Unexpected data type for result: <class 'str'>\n",
      "Unexpected data type for result: <class 'str'>\n",
      "Unexpected data type for result: <class 'str'>\n",
      "Unexpected data type for result: <class 'str'>\n",
      "Unexpected data type for result: <class 'str'>\n"
     ]
    },
    {
     "name": "stderr",
     "output_type": "stream",
     "text": [
      "C:\\Users\\Lenovo\\DEVELOPERS SECTION\\Cheque_detection_minor\\yolov5\\models\\common.py:892: FutureWarning: `torch.cuda.amp.autocast(args...)` is deprecated. Please use `torch.amp.autocast('cuda', args...)` instead.\n",
      "  with amp.autocast(autocast):\n"
     ]
    },
    {
     "name": "stdout",
     "output_type": "stream",
     "text": [
      "Unexpected data type for result: <class 'str'>\n",
      "Unexpected data type for result: <class 'str'>\n",
      "Unexpected data type for result: <class 'str'>\n",
      "Unexpected data type for result: <class 'str'>\n",
      "Unexpected data type for result: <class 'str'>\n",
      "Unexpected data type for result: <class 'str'>\n",
      "Unexpected data type for result: <class 'str'>\n"
     ]
    },
    {
     "name": "stderr",
     "output_type": "stream",
     "text": [
      "C:\\Users\\Lenovo\\DEVELOPERS SECTION\\Cheque_detection_minor\\yolov5\\models\\common.py:892: FutureWarning: `torch.cuda.amp.autocast(args...)` is deprecated. Please use `torch.amp.autocast('cuda', args...)` instead.\n",
      "  with amp.autocast(autocast):\n"
     ]
    },
    {
     "name": "stdout",
     "output_type": "stream",
     "text": [
      "Unexpected data type for result: <class 'str'>\n",
      "Unexpected data type for result: <class 'str'>\n",
      "Unexpected data type for result: <class 'str'>\n",
      "Unexpected data type for result: <class 'str'>\n",
      "Unexpected data type for result: <class 'str'>\n",
      "Unexpected data type for result: <class 'str'>\n",
      "Unexpected data type for result: <class 'str'>\n"
     ]
    },
    {
     "name": "stderr",
     "output_type": "stream",
     "text": [
      "C:\\Users\\Lenovo\\DEVELOPERS SECTION\\Cheque_detection_minor\\yolov5\\models\\common.py:892: FutureWarning: `torch.cuda.amp.autocast(args...)` is deprecated. Please use `torch.amp.autocast('cuda', args...)` instead.\n",
      "  with amp.autocast(autocast):\n"
     ]
    },
    {
     "name": "stdout",
     "output_type": "stream",
     "text": [
      "Unexpected data type for result: <class 'str'>\n",
      "Unexpected data type for result: <class 'str'>\n",
      "Unexpected data type for result: <class 'str'>\n",
      "Unexpected data type for result: <class 'str'>\n",
      "Unexpected data type for result: <class 'str'>\n",
      "Unexpected data type for result: <class 'str'>\n",
      "Unexpected data type for result: <class 'str'>\n"
     ]
    },
    {
     "name": "stderr",
     "output_type": "stream",
     "text": [
      "C:\\Users\\Lenovo\\DEVELOPERS SECTION\\Cheque_detection_minor\\yolov5\\models\\common.py:892: FutureWarning: `torch.cuda.amp.autocast(args...)` is deprecated. Please use `torch.amp.autocast('cuda', args...)` instead.\n",
      "  with amp.autocast(autocast):\n"
     ]
    },
    {
     "name": "stdout",
     "output_type": "stream",
     "text": [
      "Unexpected data type for result: <class 'str'>\n",
      "Unexpected data type for result: <class 'str'>\n",
      "Unexpected data type for result: <class 'str'>\n",
      "Unexpected data type for result: <class 'str'>\n",
      "Unexpected data type for result: <class 'str'>\n",
      "Unexpected data type for result: <class 'str'>\n",
      "Unexpected data type for result: <class 'str'>\n"
     ]
    },
    {
     "name": "stderr",
     "output_type": "stream",
     "text": [
      "C:\\Users\\Lenovo\\DEVELOPERS SECTION\\Cheque_detection_minor\\yolov5\\models\\common.py:892: FutureWarning: `torch.cuda.amp.autocast(args...)` is deprecated. Please use `torch.amp.autocast('cuda', args...)` instead.\n",
      "  with amp.autocast(autocast):\n"
     ]
    },
    {
     "name": "stdout",
     "output_type": "stream",
     "text": [
      "Unexpected data type for result: <class 'str'>\n",
      "Unexpected data type for result: <class 'str'>\n",
      "Unexpected data type for result: <class 'str'>\n",
      "Unexpected data type for result: <class 'str'>\n",
      "Unexpected data type for result: <class 'str'>\n",
      "Unexpected data type for result: <class 'str'>\n",
      "Unexpected data type for result: <class 'str'>\n"
     ]
    },
    {
     "name": "stderr",
     "output_type": "stream",
     "text": [
      "C:\\Users\\Lenovo\\DEVELOPERS SECTION\\Cheque_detection_minor\\yolov5\\models\\common.py:892: FutureWarning: `torch.cuda.amp.autocast(args...)` is deprecated. Please use `torch.amp.autocast('cuda', args...)` instead.\n",
      "  with amp.autocast(autocast):\n"
     ]
    },
    {
     "name": "stdout",
     "output_type": "stream",
     "text": [
      "Unexpected data type for result: <class 'str'>\n",
      "Unexpected data type for result: <class 'str'>\n",
      "Unexpected data type for result: <class 'str'>\n",
      "Unexpected data type for result: <class 'str'>\n",
      "Unexpected data type for result: <class 'str'>\n",
      "Unexpected data type for result: <class 'str'>\n",
      "Unexpected data type for result: <class 'str'>\n"
     ]
    },
    {
     "name": "stderr",
     "output_type": "stream",
     "text": [
      "C:\\Users\\Lenovo\\DEVELOPERS SECTION\\Cheque_detection_minor\\yolov5\\models\\common.py:892: FutureWarning: `torch.cuda.amp.autocast(args...)` is deprecated. Please use `torch.amp.autocast('cuda', args...)` instead.\n",
      "  with amp.autocast(autocast):\n"
     ]
    },
    {
     "name": "stdout",
     "output_type": "stream",
     "text": [
      "Unexpected data type for result: <class 'str'>\n",
      "Unexpected data type for result: <class 'str'>\n",
      "Unexpected data type for result: <class 'str'>\n",
      "Unexpected data type for result: <class 'str'>\n",
      "Unexpected data type for result: <class 'str'>\n",
      "Unexpected data type for result: <class 'str'>\n",
      "Unexpected data type for result: <class 'str'>\n"
     ]
    },
    {
     "name": "stderr",
     "output_type": "stream",
     "text": [
      "C:\\Users\\Lenovo\\DEVELOPERS SECTION\\Cheque_detection_minor\\yolov5\\models\\common.py:892: FutureWarning: `torch.cuda.amp.autocast(args...)` is deprecated. Please use `torch.amp.autocast('cuda', args...)` instead.\n",
      "  with amp.autocast(autocast):\n"
     ]
    },
    {
     "name": "stdout",
     "output_type": "stream",
     "text": [
      "Unexpected data type for result: <class 'str'>\n",
      "Unexpected data type for result: <class 'str'>\n",
      "Unexpected data type for result: <class 'str'>\n",
      "Unexpected data type for result: <class 'str'>\n",
      "Unexpected data type for result: <class 'str'>\n",
      "Unexpected data type for result: <class 'str'>\n",
      "Unexpected data type for result: <class 'str'>\n"
     ]
    },
    {
     "name": "stderr",
     "output_type": "stream",
     "text": [
      "C:\\Users\\Lenovo\\DEVELOPERS SECTION\\Cheque_detection_minor\\yolov5\\models\\common.py:892: FutureWarning: `torch.cuda.amp.autocast(args...)` is deprecated. Please use `torch.amp.autocast('cuda', args...)` instead.\n",
      "  with amp.autocast(autocast):\n"
     ]
    },
    {
     "name": "stdout",
     "output_type": "stream",
     "text": [
      "Unexpected data type for result: <class 'str'>\n",
      "Unexpected data type for result: <class 'str'>\n",
      "Unexpected data type for result: <class 'str'>\n",
      "Unexpected data type for result: <class 'str'>\n",
      "Unexpected data type for result: <class 'str'>\n",
      "Unexpected data type for result: <class 'str'>\n",
      "Unexpected data type for result: <class 'str'>\n"
     ]
    },
    {
     "name": "stderr",
     "output_type": "stream",
     "text": [
      "C:\\Users\\Lenovo\\DEVELOPERS SECTION\\Cheque_detection_minor\\yolov5\\models\\common.py:892: FutureWarning: `torch.cuda.amp.autocast(args...)` is deprecated. Please use `torch.amp.autocast('cuda', args...)` instead.\n",
      "  with amp.autocast(autocast):\n"
     ]
    },
    {
     "name": "stdout",
     "output_type": "stream",
     "text": [
      "Unexpected data type for result: <class 'str'>\n",
      "Unexpected data type for result: <class 'str'>\n",
      "Unexpected data type for result: <class 'str'>\n",
      "Unexpected data type for result: <class 'str'>\n",
      "Unexpected data type for result: <class 'str'>\n",
      "Unexpected data type for result: <class 'str'>\n",
      "Unexpected data type for result: <class 'str'>\n"
     ]
    },
    {
     "name": "stderr",
     "output_type": "stream",
     "text": [
      "C:\\Users\\Lenovo\\DEVELOPERS SECTION\\Cheque_detection_minor\\yolov5\\models\\common.py:892: FutureWarning: `torch.cuda.amp.autocast(args...)` is deprecated. Please use `torch.amp.autocast('cuda', args...)` instead.\n",
      "  with amp.autocast(autocast):\n"
     ]
    },
    {
     "name": "stdout",
     "output_type": "stream",
     "text": [
      "Unexpected data type for result: <class 'str'>\n",
      "Unexpected data type for result: <class 'str'>\n",
      "Unexpected data type for result: <class 'str'>\n",
      "Unexpected data type for result: <class 'str'>\n",
      "Unexpected data type for result: <class 'str'>\n",
      "Unexpected data type for result: <class 'str'>\n",
      "Unexpected data type for result: <class 'str'>\n"
     ]
    },
    {
     "name": "stderr",
     "output_type": "stream",
     "text": [
      "C:\\Users\\Lenovo\\DEVELOPERS SECTION\\Cheque_detection_minor\\yolov5\\models\\common.py:892: FutureWarning: `torch.cuda.amp.autocast(args...)` is deprecated. Please use `torch.amp.autocast('cuda', args...)` instead.\n",
      "  with amp.autocast(autocast):\n"
     ]
    },
    {
     "name": "stdout",
     "output_type": "stream",
     "text": [
      "Unexpected data type for result: <class 'str'>\n",
      "Unexpected data type for result: <class 'str'>\n",
      "Unexpected data type for result: <class 'str'>\n",
      "Unexpected data type for result: <class 'str'>\n",
      "Unexpected data type for result: <class 'str'>\n",
      "Unexpected data type for result: <class 'str'>\n",
      "Unexpected data type for result: <class 'str'>\n"
     ]
    },
    {
     "name": "stderr",
     "output_type": "stream",
     "text": [
      "C:\\Users\\Lenovo\\DEVELOPERS SECTION\\Cheque_detection_minor\\yolov5\\models\\common.py:892: FutureWarning: `torch.cuda.amp.autocast(args...)` is deprecated. Please use `torch.amp.autocast('cuda', args...)` instead.\n",
      "  with amp.autocast(autocast):\n"
     ]
    },
    {
     "name": "stdout",
     "output_type": "stream",
     "text": [
      "Unexpected data type for result: <class 'str'>\n",
      "Unexpected data type for result: <class 'str'>\n",
      "Unexpected data type for result: <class 'str'>\n",
      "Unexpected data type for result: <class 'str'>\n",
      "Unexpected data type for result: <class 'str'>\n",
      "Unexpected data type for result: <class 'str'>\n",
      "Unexpected data type for result: <class 'str'>\n"
     ]
    },
    {
     "name": "stderr",
     "output_type": "stream",
     "text": [
      "C:\\Users\\Lenovo\\DEVELOPERS SECTION\\Cheque_detection_minor\\yolov5\\models\\common.py:892: FutureWarning: `torch.cuda.amp.autocast(args...)` is deprecated. Please use `torch.amp.autocast('cuda', args...)` instead.\n",
      "  with amp.autocast(autocast):\n"
     ]
    },
    {
     "name": "stdout",
     "output_type": "stream",
     "text": [
      "Unexpected data type for result: <class 'str'>\n",
      "Unexpected data type for result: <class 'str'>\n",
      "Unexpected data type for result: <class 'str'>\n",
      "Unexpected data type for result: <class 'str'>\n",
      "Unexpected data type for result: <class 'str'>\n",
      "Unexpected data type for result: <class 'str'>\n",
      "Unexpected data type for result: <class 'str'>\n"
     ]
    },
    {
     "name": "stderr",
     "output_type": "stream",
     "text": [
      "C:\\Users\\Lenovo\\DEVELOPERS SECTION\\Cheque_detection_minor\\yolov5\\models\\common.py:892: FutureWarning: `torch.cuda.amp.autocast(args...)` is deprecated. Please use `torch.amp.autocast('cuda', args...)` instead.\n",
      "  with amp.autocast(autocast):\n"
     ]
    },
    {
     "name": "stdout",
     "output_type": "stream",
     "text": [
      "Unexpected data type for result: <class 'str'>\n",
      "Unexpected data type for result: <class 'str'>\n",
      "Unexpected data type for result: <class 'str'>\n",
      "Unexpected data type for result: <class 'str'>\n",
      "Unexpected data type for result: <class 'str'>\n",
      "Unexpected data type for result: <class 'str'>\n",
      "Unexpected data type for result: <class 'str'>\n"
     ]
    },
    {
     "name": "stderr",
     "output_type": "stream",
     "text": [
      "C:\\Users\\Lenovo\\DEVELOPERS SECTION\\Cheque_detection_minor\\yolov5\\models\\common.py:892: FutureWarning: `torch.cuda.amp.autocast(args...)` is deprecated. Please use `torch.amp.autocast('cuda', args...)` instead.\n",
      "  with amp.autocast(autocast):\n"
     ]
    },
    {
     "name": "stdout",
     "output_type": "stream",
     "text": [
      "Unexpected data type for result: <class 'str'>\n",
      "Unexpected data type for result: <class 'str'>\n",
      "Unexpected data type for result: <class 'str'>\n",
      "Unexpected data type for result: <class 'str'>\n",
      "Unexpected data type for result: <class 'str'>\n",
      "Unexpected data type for result: <class 'str'>\n",
      "Unexpected data type for result: <class 'str'>\n"
     ]
    },
    {
     "name": "stderr",
     "output_type": "stream",
     "text": [
      "C:\\Users\\Lenovo\\DEVELOPERS SECTION\\Cheque_detection_minor\\yolov5\\models\\common.py:892: FutureWarning: `torch.cuda.amp.autocast(args...)` is deprecated. Please use `torch.amp.autocast('cuda', args...)` instead.\n",
      "  with amp.autocast(autocast):\n"
     ]
    },
    {
     "name": "stdout",
     "output_type": "stream",
     "text": [
      "Unexpected data type for result: <class 'str'>\n",
      "Unexpected data type for result: <class 'str'>\n",
      "Unexpected data type for result: <class 'str'>\n",
      "Unexpected data type for result: <class 'str'>\n",
      "Unexpected data type for result: <class 'str'>\n",
      "Unexpected data type for result: <class 'str'>\n",
      "Unexpected data type for result: <class 'str'>\n"
     ]
    },
    {
     "name": "stderr",
     "output_type": "stream",
     "text": [
      "C:\\Users\\Lenovo\\DEVELOPERS SECTION\\Cheque_detection_minor\\yolov5\\models\\common.py:892: FutureWarning: `torch.cuda.amp.autocast(args...)` is deprecated. Please use `torch.amp.autocast('cuda', args...)` instead.\n",
      "  with amp.autocast(autocast):\n"
     ]
    },
    {
     "name": "stdout",
     "output_type": "stream",
     "text": [
      "Unexpected data type for result: <class 'str'>\n",
      "Unexpected data type for result: <class 'str'>\n",
      "Unexpected data type for result: <class 'str'>\n",
      "Unexpected data type for result: <class 'str'>\n",
      "Unexpected data type for result: <class 'str'>\n",
      "Unexpected data type for result: <class 'str'>\n",
      "Unexpected data type for result: <class 'str'>\n"
     ]
    },
    {
     "name": "stderr",
     "output_type": "stream",
     "text": [
      "C:\\Users\\Lenovo\\DEVELOPERS SECTION\\Cheque_detection_minor\\yolov5\\models\\common.py:892: FutureWarning: `torch.cuda.amp.autocast(args...)` is deprecated. Please use `torch.amp.autocast('cuda', args...)` instead.\n",
      "  with amp.autocast(autocast):\n"
     ]
    },
    {
     "name": "stdout",
     "output_type": "stream",
     "text": [
      "Unexpected data type for result: <class 'str'>\n",
      "Unexpected data type for result: <class 'str'>\n",
      "Unexpected data type for result: <class 'str'>\n",
      "Unexpected data type for result: <class 'str'>\n",
      "Unexpected data type for result: <class 'str'>\n",
      "Unexpected data type for result: <class 'str'>\n",
      "Unexpected data type for result: <class 'str'>\n"
     ]
    },
    {
     "name": "stderr",
     "output_type": "stream",
     "text": [
      "C:\\Users\\Lenovo\\DEVELOPERS SECTION\\Cheque_detection_minor\\yolov5\\models\\common.py:892: FutureWarning: `torch.cuda.amp.autocast(args...)` is deprecated. Please use `torch.amp.autocast('cuda', args...)` instead.\n",
      "  with amp.autocast(autocast):\n"
     ]
    },
    {
     "name": "stdout",
     "output_type": "stream",
     "text": [
      "Unexpected data type for result: <class 'str'>\n",
      "Unexpected data type for result: <class 'str'>\n",
      "Unexpected data type for result: <class 'str'>\n",
      "Unexpected data type for result: <class 'str'>\n",
      "Unexpected data type for result: <class 'str'>\n",
      "Unexpected data type for result: <class 'str'>\n",
      "Unexpected data type for result: <class 'str'>\n"
     ]
    },
    {
     "name": "stderr",
     "output_type": "stream",
     "text": [
      "C:\\Users\\Lenovo\\DEVELOPERS SECTION\\Cheque_detection_minor\\yolov5\\models\\common.py:892: FutureWarning: `torch.cuda.amp.autocast(args...)` is deprecated. Please use `torch.amp.autocast('cuda', args...)` instead.\n",
      "  with amp.autocast(autocast):\n"
     ]
    },
    {
     "name": "stdout",
     "output_type": "stream",
     "text": [
      "Unexpected data type for result: <class 'str'>\n",
      "Unexpected data type for result: <class 'str'>\n",
      "Unexpected data type for result: <class 'str'>\n",
      "Unexpected data type for result: <class 'str'>\n",
      "Unexpected data type for result: <class 'str'>\n",
      "Unexpected data type for result: <class 'str'>\n",
      "Unexpected data type for result: <class 'str'>\n"
     ]
    },
    {
     "name": "stderr",
     "output_type": "stream",
     "text": [
      "C:\\Users\\Lenovo\\DEVELOPERS SECTION\\Cheque_detection_minor\\yolov5\\models\\common.py:892: FutureWarning: `torch.cuda.amp.autocast(args...)` is deprecated. Please use `torch.amp.autocast('cuda', args...)` instead.\n",
      "  with amp.autocast(autocast):\n"
     ]
    },
    {
     "name": "stdout",
     "output_type": "stream",
     "text": [
      "Unexpected data type for result: <class 'str'>\n",
      "Unexpected data type for result: <class 'str'>\n",
      "Unexpected data type for result: <class 'str'>\n",
      "Unexpected data type for result: <class 'str'>\n",
      "Unexpected data type for result: <class 'str'>\n",
      "Unexpected data type for result: <class 'str'>\n",
      "Unexpected data type for result: <class 'str'>\n"
     ]
    },
    {
     "name": "stderr",
     "output_type": "stream",
     "text": [
      "C:\\Users\\Lenovo\\DEVELOPERS SECTION\\Cheque_detection_minor\\yolov5\\models\\common.py:892: FutureWarning: `torch.cuda.amp.autocast(args...)` is deprecated. Please use `torch.amp.autocast('cuda', args...)` instead.\n",
      "  with amp.autocast(autocast):\n"
     ]
    },
    {
     "name": "stdout",
     "output_type": "stream",
     "text": [
      "Unexpected data type for result: <class 'str'>\n",
      "Unexpected data type for result: <class 'str'>\n",
      "Unexpected data type for result: <class 'str'>\n",
      "Unexpected data type for result: <class 'str'>\n",
      "Unexpected data type for result: <class 'str'>\n",
      "Unexpected data type for result: <class 'str'>\n",
      "Unexpected data type for result: <class 'str'>\n"
     ]
    },
    {
     "name": "stderr",
     "output_type": "stream",
     "text": [
      "C:\\Users\\Lenovo\\DEVELOPERS SECTION\\Cheque_detection_minor\\yolov5\\models\\common.py:892: FutureWarning: `torch.cuda.amp.autocast(args...)` is deprecated. Please use `torch.amp.autocast('cuda', args...)` instead.\n",
      "  with amp.autocast(autocast):\n"
     ]
    },
    {
     "name": "stdout",
     "output_type": "stream",
     "text": [
      "Unexpected data type for result: <class 'str'>\n",
      "Unexpected data type for result: <class 'str'>\n",
      "Unexpected data type for result: <class 'str'>\n",
      "Unexpected data type for result: <class 'str'>\n",
      "Unexpected data type for result: <class 'str'>\n",
      "Unexpected data type for result: <class 'str'>\n",
      "Unexpected data type for result: <class 'str'>\n"
     ]
    },
    {
     "name": "stderr",
     "output_type": "stream",
     "text": [
      "C:\\Users\\Lenovo\\DEVELOPERS SECTION\\Cheque_detection_minor\\yolov5\\models\\common.py:892: FutureWarning: `torch.cuda.amp.autocast(args...)` is deprecated. Please use `torch.amp.autocast('cuda', args...)` instead.\n",
      "  with amp.autocast(autocast):\n"
     ]
    },
    {
     "name": "stdout",
     "output_type": "stream",
     "text": [
      "Unexpected data type for result: <class 'str'>\n",
      "Unexpected data type for result: <class 'str'>\n",
      "Unexpected data type for result: <class 'str'>\n",
      "Unexpected data type for result: <class 'str'>\n",
      "Unexpected data type for result: <class 'str'>\n",
      "Unexpected data type for result: <class 'str'>\n",
      "Unexpected data type for result: <class 'str'>\n"
     ]
    },
    {
     "name": "stderr",
     "output_type": "stream",
     "text": [
      "C:\\Users\\Lenovo\\DEVELOPERS SECTION\\Cheque_detection_minor\\yolov5\\models\\common.py:892: FutureWarning: `torch.cuda.amp.autocast(args...)` is deprecated. Please use `torch.amp.autocast('cuda', args...)` instead.\n",
      "  with amp.autocast(autocast):\n"
     ]
    },
    {
     "name": "stdout",
     "output_type": "stream",
     "text": [
      "Unexpected data type for result: <class 'str'>\n",
      "Unexpected data type for result: <class 'str'>\n",
      "Unexpected data type for result: <class 'str'>\n",
      "Unexpected data type for result: <class 'str'>\n",
      "Unexpected data type for result: <class 'str'>\n",
      "Unexpected data type for result: <class 'str'>\n",
      "Unexpected data type for result: <class 'str'>\n"
     ]
    },
    {
     "name": "stderr",
     "output_type": "stream",
     "text": [
      "C:\\Users\\Lenovo\\DEVELOPERS SECTION\\Cheque_detection_minor\\yolov5\\models\\common.py:892: FutureWarning: `torch.cuda.amp.autocast(args...)` is deprecated. Please use `torch.amp.autocast('cuda', args...)` instead.\n",
      "  with amp.autocast(autocast):\n"
     ]
    },
    {
     "name": "stdout",
     "output_type": "stream",
     "text": [
      "Unexpected data type for result: <class 'str'>\n",
      "Unexpected data type for result: <class 'str'>\n",
      "Unexpected data type for result: <class 'str'>\n",
      "Unexpected data type for result: <class 'str'>\n",
      "Unexpected data type for result: <class 'str'>\n",
      "Unexpected data type for result: <class 'str'>\n",
      "Unexpected data type for result: <class 'str'>\n"
     ]
    },
    {
     "name": "stderr",
     "output_type": "stream",
     "text": [
      "C:\\Users\\Lenovo\\DEVELOPERS SECTION\\Cheque_detection_minor\\yolov5\\models\\common.py:892: FutureWarning: `torch.cuda.amp.autocast(args...)` is deprecated. Please use `torch.amp.autocast('cuda', args...)` instead.\n",
      "  with amp.autocast(autocast):\n"
     ]
    },
    {
     "name": "stdout",
     "output_type": "stream",
     "text": [
      "Unexpected data type for result: <class 'str'>\n",
      "Unexpected data type for result: <class 'str'>\n",
      "Unexpected data type for result: <class 'str'>\n",
      "Unexpected data type for result: <class 'str'>\n",
      "Unexpected data type for result: <class 'str'>\n",
      "Unexpected data type for result: <class 'str'>\n",
      "Unexpected data type for result: <class 'str'>\n"
     ]
    },
    {
     "name": "stderr",
     "output_type": "stream",
     "text": [
      "C:\\Users\\Lenovo\\DEVELOPERS SECTION\\Cheque_detection_minor\\yolov5\\models\\common.py:892: FutureWarning: `torch.cuda.amp.autocast(args...)` is deprecated. Please use `torch.amp.autocast('cuda', args...)` instead.\n",
      "  with amp.autocast(autocast):\n"
     ]
    },
    {
     "name": "stdout",
     "output_type": "stream",
     "text": [
      "Unexpected data type for result: <class 'str'>\n",
      "Unexpected data type for result: <class 'str'>\n",
      "Unexpected data type for result: <class 'str'>\n",
      "Unexpected data type for result: <class 'str'>\n",
      "Unexpected data type for result: <class 'str'>\n",
      "Unexpected data type for result: <class 'str'>\n",
      "Unexpected data type for result: <class 'str'>\n"
     ]
    },
    {
     "name": "stderr",
     "output_type": "stream",
     "text": [
      "C:\\Users\\Lenovo\\DEVELOPERS SECTION\\Cheque_detection_minor\\yolov5\\models\\common.py:892: FutureWarning: `torch.cuda.amp.autocast(args...)` is deprecated. Please use `torch.amp.autocast('cuda', args...)` instead.\n",
      "  with amp.autocast(autocast):\n"
     ]
    },
    {
     "name": "stdout",
     "output_type": "stream",
     "text": [
      "Unexpected data type for result: <class 'str'>\n",
      "Unexpected data type for result: <class 'str'>\n",
      "Unexpected data type for result: <class 'str'>\n",
      "Unexpected data type for result: <class 'str'>\n",
      "Unexpected data type for result: <class 'str'>\n",
      "Unexpected data type for result: <class 'str'>\n",
      "Unexpected data type for result: <class 'str'>\n"
     ]
    },
    {
     "name": "stderr",
     "output_type": "stream",
     "text": [
      "C:\\Users\\Lenovo\\DEVELOPERS SECTION\\Cheque_detection_minor\\yolov5\\models\\common.py:892: FutureWarning: `torch.cuda.amp.autocast(args...)` is deprecated. Please use `torch.amp.autocast('cuda', args...)` instead.\n",
      "  with amp.autocast(autocast):\n"
     ]
    },
    {
     "name": "stdout",
     "output_type": "stream",
     "text": [
      "Unexpected data type for result: <class 'str'>\n",
      "Unexpected data type for result: <class 'str'>\n",
      "Unexpected data type for result: <class 'str'>\n",
      "Unexpected data type for result: <class 'str'>\n",
      "Unexpected data type for result: <class 'str'>\n",
      "Unexpected data type for result: <class 'str'>\n",
      "Unexpected data type for result: <class 'str'>\n"
     ]
    },
    {
     "name": "stderr",
     "output_type": "stream",
     "text": [
      "C:\\Users\\Lenovo\\DEVELOPERS SECTION\\Cheque_detection_minor\\yolov5\\models\\common.py:892: FutureWarning: `torch.cuda.amp.autocast(args...)` is deprecated. Please use `torch.amp.autocast('cuda', args...)` instead.\n",
      "  with amp.autocast(autocast):\n"
     ]
    },
    {
     "name": "stdout",
     "output_type": "stream",
     "text": [
      "Unexpected data type for result: <class 'str'>\n",
      "Unexpected data type for result: <class 'str'>\n",
      "Unexpected data type for result: <class 'str'>\n",
      "Unexpected data type for result: <class 'str'>\n",
      "Unexpected data type for result: <class 'str'>\n",
      "Unexpected data type for result: <class 'str'>\n",
      "Unexpected data type for result: <class 'str'>\n"
     ]
    },
    {
     "name": "stderr",
     "output_type": "stream",
     "text": [
      "C:\\Users\\Lenovo\\DEVELOPERS SECTION\\Cheque_detection_minor\\yolov5\\models\\common.py:892: FutureWarning: `torch.cuda.amp.autocast(args...)` is deprecated. Please use `torch.amp.autocast('cuda', args...)` instead.\n",
      "  with amp.autocast(autocast):\n"
     ]
    },
    {
     "name": "stdout",
     "output_type": "stream",
     "text": [
      "Unexpected data type for result: <class 'str'>\n",
      "Unexpected data type for result: <class 'str'>\n",
      "Unexpected data type for result: <class 'str'>\n",
      "Unexpected data type for result: <class 'str'>\n",
      "Unexpected data type for result: <class 'str'>\n",
      "Unexpected data type for result: <class 'str'>\n",
      "Unexpected data type for result: <class 'str'>\n"
     ]
    },
    {
     "name": "stderr",
     "output_type": "stream",
     "text": [
      "C:\\Users\\Lenovo\\DEVELOPERS SECTION\\Cheque_detection_minor\\yolov5\\models\\common.py:892: FutureWarning: `torch.cuda.amp.autocast(args...)` is deprecated. Please use `torch.amp.autocast('cuda', args...)` instead.\n",
      "  with amp.autocast(autocast):\n"
     ]
    },
    {
     "name": "stdout",
     "output_type": "stream",
     "text": [
      "Unexpected data type for result: <class 'str'>\n",
      "Unexpected data type for result: <class 'str'>\n",
      "Unexpected data type for result: <class 'str'>\n",
      "Unexpected data type for result: <class 'str'>\n",
      "Unexpected data type for result: <class 'str'>\n",
      "Unexpected data type for result: <class 'str'>\n",
      "Unexpected data type for result: <class 'str'>\n"
     ]
    },
    {
     "name": "stderr",
     "output_type": "stream",
     "text": [
      "C:\\Users\\Lenovo\\DEVELOPERS SECTION\\Cheque_detection_minor\\yolov5\\models\\common.py:892: FutureWarning: `torch.cuda.amp.autocast(args...)` is deprecated. Please use `torch.amp.autocast('cuda', args...)` instead.\n",
      "  with amp.autocast(autocast):\n"
     ]
    },
    {
     "name": "stdout",
     "output_type": "stream",
     "text": [
      "Unexpected data type for result: <class 'str'>\n",
      "Unexpected data type for result: <class 'str'>\n",
      "Unexpected data type for result: <class 'str'>\n",
      "Unexpected data type for result: <class 'str'>\n",
      "Unexpected data type for result: <class 'str'>\n",
      "Unexpected data type for result: <class 'str'>\n",
      "Unexpected data type for result: <class 'str'>\n"
     ]
    },
    {
     "name": "stderr",
     "output_type": "stream",
     "text": [
      "C:\\Users\\Lenovo\\DEVELOPERS SECTION\\Cheque_detection_minor\\yolov5\\models\\common.py:892: FutureWarning: `torch.cuda.amp.autocast(args...)` is deprecated. Please use `torch.amp.autocast('cuda', args...)` instead.\n",
      "  with amp.autocast(autocast):\n"
     ]
    },
    {
     "name": "stdout",
     "output_type": "stream",
     "text": [
      "Unexpected data type for result: <class 'str'>\n",
      "Unexpected data type for result: <class 'str'>\n",
      "Unexpected data type for result: <class 'str'>\n",
      "Unexpected data type for result: <class 'str'>\n",
      "Unexpected data type for result: <class 'str'>\n",
      "Unexpected data type for result: <class 'str'>\n",
      "Unexpected data type for result: <class 'str'>\n"
     ]
    },
    {
     "name": "stderr",
     "output_type": "stream",
     "text": [
      "C:\\Users\\Lenovo\\DEVELOPERS SECTION\\Cheque_detection_minor\\yolov5\\models\\common.py:892: FutureWarning: `torch.cuda.amp.autocast(args...)` is deprecated. Please use `torch.amp.autocast('cuda', args...)` instead.\n",
      "  with amp.autocast(autocast):\n"
     ]
    },
    {
     "name": "stdout",
     "output_type": "stream",
     "text": [
      "Unexpected data type for result: <class 'str'>\n",
      "Unexpected data type for result: <class 'str'>\n",
      "Unexpected data type for result: <class 'str'>\n",
      "Unexpected data type for result: <class 'str'>\n",
      "Unexpected data type for result: <class 'str'>\n",
      "Unexpected data type for result: <class 'str'>\n",
      "Unexpected data type for result: <class 'str'>\n"
     ]
    },
    {
     "name": "stderr",
     "output_type": "stream",
     "text": [
      "C:\\Users\\Lenovo\\DEVELOPERS SECTION\\Cheque_detection_minor\\yolov5\\models\\common.py:892: FutureWarning: `torch.cuda.amp.autocast(args...)` is deprecated. Please use `torch.amp.autocast('cuda', args...)` instead.\n",
      "  with amp.autocast(autocast):\n"
     ]
    },
    {
     "name": "stdout",
     "output_type": "stream",
     "text": [
      "Unexpected data type for result: <class 'str'>\n",
      "Unexpected data type for result: <class 'str'>\n",
      "Unexpected data type for result: <class 'str'>\n",
      "Unexpected data type for result: <class 'str'>\n",
      "Unexpected data type for result: <class 'str'>\n",
      "Unexpected data type for result: <class 'str'>\n",
      "Unexpected data type for result: <class 'str'>\n"
     ]
    },
    {
     "name": "stderr",
     "output_type": "stream",
     "text": [
      "C:\\Users\\Lenovo\\DEVELOPERS SECTION\\Cheque_detection_minor\\yolov5\\models\\common.py:892: FutureWarning: `torch.cuda.amp.autocast(args...)` is deprecated. Please use `torch.amp.autocast('cuda', args...)` instead.\n",
      "  with amp.autocast(autocast):\n"
     ]
    },
    {
     "name": "stdout",
     "output_type": "stream",
     "text": [
      "Unexpected data type for result: <class 'str'>\n",
      "Unexpected data type for result: <class 'str'>\n",
      "Unexpected data type for result: <class 'str'>\n",
      "Unexpected data type for result: <class 'str'>\n",
      "Unexpected data type for result: <class 'str'>\n",
      "Unexpected data type for result: <class 'str'>\n",
      "Unexpected data type for result: <class 'str'>\n"
     ]
    },
    {
     "name": "stderr",
     "output_type": "stream",
     "text": [
      "C:\\Users\\Lenovo\\DEVELOPERS SECTION\\Cheque_detection_minor\\yolov5\\models\\common.py:892: FutureWarning: `torch.cuda.amp.autocast(args...)` is deprecated. Please use `torch.amp.autocast('cuda', args...)` instead.\n",
      "  with amp.autocast(autocast):\n"
     ]
    },
    {
     "name": "stdout",
     "output_type": "stream",
     "text": [
      "Unexpected data type for result: <class 'str'>\n",
      "Unexpected data type for result: <class 'str'>\n",
      "Unexpected data type for result: <class 'str'>\n",
      "Unexpected data type for result: <class 'str'>\n",
      "Unexpected data type for result: <class 'str'>\n",
      "Unexpected data type for result: <class 'str'>\n",
      "Unexpected data type for result: <class 'str'>\n"
     ]
    },
    {
     "name": "stderr",
     "output_type": "stream",
     "text": [
      "C:\\Users\\Lenovo\\DEVELOPERS SECTION\\Cheque_detection_minor\\yolov5\\models\\common.py:892: FutureWarning: `torch.cuda.amp.autocast(args...)` is deprecated. Please use `torch.amp.autocast('cuda', args...)` instead.\n",
      "  with amp.autocast(autocast):\n"
     ]
    },
    {
     "name": "stdout",
     "output_type": "stream",
     "text": [
      "Unexpected data type for result: <class 'str'>\n",
      "Unexpected data type for result: <class 'str'>\n",
      "Unexpected data type for result: <class 'str'>\n",
      "Unexpected data type for result: <class 'str'>\n",
      "Unexpected data type for result: <class 'str'>\n",
      "Unexpected data type for result: <class 'str'>\n",
      "Unexpected data type for result: <class 'str'>\n"
     ]
    },
    {
     "name": "stderr",
     "output_type": "stream",
     "text": [
      "C:\\Users\\Lenovo\\DEVELOPERS SECTION\\Cheque_detection_minor\\yolov5\\models\\common.py:892: FutureWarning: `torch.cuda.amp.autocast(args...)` is deprecated. Please use `torch.amp.autocast('cuda', args...)` instead.\n",
      "  with amp.autocast(autocast):\n"
     ]
    },
    {
     "name": "stdout",
     "output_type": "stream",
     "text": [
      "Unexpected data type for result: <class 'str'>\n",
      "Unexpected data type for result: <class 'str'>\n",
      "Unexpected data type for result: <class 'str'>\n",
      "Unexpected data type for result: <class 'str'>\n",
      "Unexpected data type for result: <class 'str'>\n",
      "Unexpected data type for result: <class 'str'>\n",
      "Unexpected data type for result: <class 'str'>\n"
     ]
    },
    {
     "name": "stderr",
     "output_type": "stream",
     "text": [
      "C:\\Users\\Lenovo\\DEVELOPERS SECTION\\Cheque_detection_minor\\yolov5\\models\\common.py:892: FutureWarning: `torch.cuda.amp.autocast(args...)` is deprecated. Please use `torch.amp.autocast('cuda', args...)` instead.\n",
      "  with amp.autocast(autocast):\n"
     ]
    },
    {
     "name": "stdout",
     "output_type": "stream",
     "text": [
      "Unexpected data type for result: <class 'str'>\n",
      "Unexpected data type for result: <class 'str'>\n",
      "Unexpected data type for result: <class 'str'>\n",
      "Unexpected data type for result: <class 'str'>\n",
      "Unexpected data type for result: <class 'str'>\n",
      "Unexpected data type for result: <class 'str'>\n",
      "Unexpected data type for result: <class 'str'>\n"
     ]
    },
    {
     "name": "stderr",
     "output_type": "stream",
     "text": [
      "C:\\Users\\Lenovo\\DEVELOPERS SECTION\\Cheque_detection_minor\\yolov5\\models\\common.py:892: FutureWarning: `torch.cuda.amp.autocast(args...)` is deprecated. Please use `torch.amp.autocast('cuda', args...)` instead.\n",
      "  with amp.autocast(autocast):\n"
     ]
    },
    {
     "name": "stdout",
     "output_type": "stream",
     "text": [
      "Unexpected data type for result: <class 'str'>\n",
      "Unexpected data type for result: <class 'str'>\n",
      "Unexpected data type for result: <class 'str'>\n",
      "Unexpected data type for result: <class 'str'>\n",
      "Unexpected data type for result: <class 'str'>\n",
      "Unexpected data type for result: <class 'str'>\n",
      "Unexpected data type for result: <class 'str'>\n"
     ]
    },
    {
     "name": "stderr",
     "output_type": "stream",
     "text": [
      "C:\\Users\\Lenovo\\DEVELOPERS SECTION\\Cheque_detection_minor\\yolov5\\models\\common.py:892: FutureWarning: `torch.cuda.amp.autocast(args...)` is deprecated. Please use `torch.amp.autocast('cuda', args...)` instead.\n",
      "  with amp.autocast(autocast):\n"
     ]
    },
    {
     "name": "stdout",
     "output_type": "stream",
     "text": [
      "Unexpected data type for result: <class 'str'>\n",
      "Unexpected data type for result: <class 'str'>\n",
      "Unexpected data type for result: <class 'str'>\n",
      "Unexpected data type for result: <class 'str'>\n",
      "Unexpected data type for result: <class 'str'>\n",
      "Unexpected data type for result: <class 'str'>\n",
      "Unexpected data type for result: <class 'str'>\n"
     ]
    },
    {
     "name": "stderr",
     "output_type": "stream",
     "text": [
      "C:\\Users\\Lenovo\\DEVELOPERS SECTION\\Cheque_detection_minor\\yolov5\\models\\common.py:892: FutureWarning: `torch.cuda.amp.autocast(args...)` is deprecated. Please use `torch.amp.autocast('cuda', args...)` instead.\n",
      "  with amp.autocast(autocast):\n"
     ]
    },
    {
     "name": "stdout",
     "output_type": "stream",
     "text": [
      "Unexpected data type for result: <class 'str'>\n",
      "Unexpected data type for result: <class 'str'>\n",
      "Unexpected data type for result: <class 'str'>\n",
      "Unexpected data type for result: <class 'str'>\n",
      "Unexpected data type for result: <class 'str'>\n",
      "Unexpected data type for result: <class 'str'>\n",
      "Unexpected data type for result: <class 'str'>\n"
     ]
    },
    {
     "name": "stderr",
     "output_type": "stream",
     "text": [
      "C:\\Users\\Lenovo\\DEVELOPERS SECTION\\Cheque_detection_minor\\yolov5\\models\\common.py:892: FutureWarning: `torch.cuda.amp.autocast(args...)` is deprecated. Please use `torch.amp.autocast('cuda', args...)` instead.\n",
      "  with amp.autocast(autocast):\n"
     ]
    },
    {
     "name": "stdout",
     "output_type": "stream",
     "text": [
      "Unexpected data type for result: <class 'str'>\n",
      "Unexpected data type for result: <class 'str'>\n",
      "Unexpected data type for result: <class 'str'>\n",
      "Unexpected data type for result: <class 'str'>\n",
      "Unexpected data type for result: <class 'str'>\n",
      "Unexpected data type for result: <class 'str'>\n",
      "Unexpected data type for result: <class 'str'>\n"
     ]
    },
    {
     "name": "stderr",
     "output_type": "stream",
     "text": [
      "C:\\Users\\Lenovo\\DEVELOPERS SECTION\\Cheque_detection_minor\\yolov5\\models\\common.py:892: FutureWarning: `torch.cuda.amp.autocast(args...)` is deprecated. Please use `torch.amp.autocast('cuda', args...)` instead.\n",
      "  with amp.autocast(autocast):\n"
     ]
    },
    {
     "name": "stdout",
     "output_type": "stream",
     "text": [
      "Unexpected data type for result: <class 'str'>\n",
      "Unexpected data type for result: <class 'str'>\n",
      "Unexpected data type for result: <class 'str'>\n",
      "Unexpected data type for result: <class 'str'>\n",
      "Unexpected data type for result: <class 'str'>\n",
      "Unexpected data type for result: <class 'str'>\n",
      "Unexpected data type for result: <class 'str'>\n"
     ]
    },
    {
     "name": "stderr",
     "output_type": "stream",
     "text": [
      "C:\\Users\\Lenovo\\DEVELOPERS SECTION\\Cheque_detection_minor\\yolov5\\models\\common.py:892: FutureWarning: `torch.cuda.amp.autocast(args...)` is deprecated. Please use `torch.amp.autocast('cuda', args...)` instead.\n",
      "  with amp.autocast(autocast):\n"
     ]
    },
    {
     "name": "stdout",
     "output_type": "stream",
     "text": [
      "Unexpected data type for result: <class 'str'>\n",
      "Unexpected data type for result: <class 'str'>\n",
      "Unexpected data type for result: <class 'str'>\n",
      "Unexpected data type for result: <class 'str'>\n",
      "Unexpected data type for result: <class 'str'>\n",
      "Unexpected data type for result: <class 'str'>\n",
      "Unexpected data type for result: <class 'str'>\n"
     ]
    },
    {
     "name": "stderr",
     "output_type": "stream",
     "text": [
      "C:\\Users\\Lenovo\\DEVELOPERS SECTION\\Cheque_detection_minor\\yolov5\\models\\common.py:892: FutureWarning: `torch.cuda.amp.autocast(args...)` is deprecated. Please use `torch.amp.autocast('cuda', args...)` instead.\n",
      "  with amp.autocast(autocast):\n"
     ]
    },
    {
     "name": "stdout",
     "output_type": "stream",
     "text": [
      "Unexpected data type for result: <class 'str'>\n",
      "Unexpected data type for result: <class 'str'>\n",
      "Unexpected data type for result: <class 'str'>\n",
      "Unexpected data type for result: <class 'str'>\n",
      "Unexpected data type for result: <class 'str'>\n",
      "Unexpected data type for result: <class 'str'>\n",
      "Unexpected data type for result: <class 'str'>\n"
     ]
    },
    {
     "name": "stderr",
     "output_type": "stream",
     "text": [
      "C:\\Users\\Lenovo\\DEVELOPERS SECTION\\Cheque_detection_minor\\yolov5\\models\\common.py:892: FutureWarning: `torch.cuda.amp.autocast(args...)` is deprecated. Please use `torch.amp.autocast('cuda', args...)` instead.\n",
      "  with amp.autocast(autocast):\n"
     ]
    },
    {
     "name": "stdout",
     "output_type": "stream",
     "text": [
      "Unexpected data type for result: <class 'str'>\n",
      "Unexpected data type for result: <class 'str'>\n",
      "Unexpected data type for result: <class 'str'>\n",
      "Unexpected data type for result: <class 'str'>\n",
      "Unexpected data type for result: <class 'str'>\n",
      "Unexpected data type for result: <class 'str'>\n",
      "Unexpected data type for result: <class 'str'>\n"
     ]
    },
    {
     "name": "stderr",
     "output_type": "stream",
     "text": [
      "C:\\Users\\Lenovo\\DEVELOPERS SECTION\\Cheque_detection_minor\\yolov5\\models\\common.py:892: FutureWarning: `torch.cuda.amp.autocast(args...)` is deprecated. Please use `torch.amp.autocast('cuda', args...)` instead.\n",
      "  with amp.autocast(autocast):\n"
     ]
    },
    {
     "name": "stdout",
     "output_type": "stream",
     "text": [
      "Unexpected data type for result: <class 'str'>\n",
      "Unexpected data type for result: <class 'str'>\n",
      "Unexpected data type for result: <class 'str'>\n",
      "Unexpected data type for result: <class 'str'>\n",
      "Unexpected data type for result: <class 'str'>\n",
      "Unexpected data type for result: <class 'str'>\n",
      "Unexpected data type for result: <class 'str'>\n"
     ]
    },
    {
     "name": "stderr",
     "output_type": "stream",
     "text": [
      "C:\\Users\\Lenovo\\DEVELOPERS SECTION\\Cheque_detection_minor\\yolov5\\models\\common.py:892: FutureWarning: `torch.cuda.amp.autocast(args...)` is deprecated. Please use `torch.amp.autocast('cuda', args...)` instead.\n",
      "  with amp.autocast(autocast):\n"
     ]
    },
    {
     "name": "stdout",
     "output_type": "stream",
     "text": [
      "Unexpected data type for result: <class 'str'>\n",
      "Unexpected data type for result: <class 'str'>\n",
      "Unexpected data type for result: <class 'str'>\n",
      "Unexpected data type for result: <class 'str'>\n",
      "Unexpected data type for result: <class 'str'>\n",
      "Unexpected data type for result: <class 'str'>\n",
      "Unexpected data type for result: <class 'str'>\n"
     ]
    },
    {
     "name": "stderr",
     "output_type": "stream",
     "text": [
      "C:\\Users\\Lenovo\\DEVELOPERS SECTION\\Cheque_detection_minor\\yolov5\\models\\common.py:892: FutureWarning: `torch.cuda.amp.autocast(args...)` is deprecated. Please use `torch.amp.autocast('cuda', args...)` instead.\n",
      "  with amp.autocast(autocast):\n"
     ]
    },
    {
     "name": "stdout",
     "output_type": "stream",
     "text": [
      "Unexpected data type for result: <class 'str'>\n",
      "Unexpected data type for result: <class 'str'>\n",
      "Unexpected data type for result: <class 'str'>\n",
      "Unexpected data type for result: <class 'str'>\n",
      "Unexpected data type for result: <class 'str'>\n",
      "Unexpected data type for result: <class 'str'>\n",
      "Unexpected data type for result: <class 'str'>\n"
     ]
    },
    {
     "name": "stderr",
     "output_type": "stream",
     "text": [
      "C:\\Users\\Lenovo\\DEVELOPERS SECTION\\Cheque_detection_minor\\yolov5\\models\\common.py:892: FutureWarning: `torch.cuda.amp.autocast(args...)` is deprecated. Please use `torch.amp.autocast('cuda', args...)` instead.\n",
      "  with amp.autocast(autocast):\n"
     ]
    },
    {
     "name": "stdout",
     "output_type": "stream",
     "text": [
      "Unexpected data type for result: <class 'str'>\n",
      "Unexpected data type for result: <class 'str'>\n",
      "Unexpected data type for result: <class 'str'>\n",
      "Unexpected data type for result: <class 'str'>\n",
      "Unexpected data type for result: <class 'str'>\n",
      "Unexpected data type for result: <class 'str'>\n",
      "Unexpected data type for result: <class 'str'>\n"
     ]
    },
    {
     "name": "stderr",
     "output_type": "stream",
     "text": [
      "C:\\Users\\Lenovo\\DEVELOPERS SECTION\\Cheque_detection_minor\\yolov5\\models\\common.py:892: FutureWarning: `torch.cuda.amp.autocast(args...)` is deprecated. Please use `torch.amp.autocast('cuda', args...)` instead.\n",
      "  with amp.autocast(autocast):\n"
     ]
    },
    {
     "name": "stdout",
     "output_type": "stream",
     "text": [
      "Unexpected data type for result: <class 'str'>\n",
      "Unexpected data type for result: <class 'str'>\n",
      "Unexpected data type for result: <class 'str'>\n",
      "Unexpected data type for result: <class 'str'>\n",
      "Unexpected data type for result: <class 'str'>\n",
      "Unexpected data type for result: <class 'str'>\n",
      "Unexpected data type for result: <class 'str'>\n"
     ]
    },
    {
     "name": "stderr",
     "output_type": "stream",
     "text": [
      "C:\\Users\\Lenovo\\DEVELOPERS SECTION\\Cheque_detection_minor\\yolov5\\models\\common.py:892: FutureWarning: `torch.cuda.amp.autocast(args...)` is deprecated. Please use `torch.amp.autocast('cuda', args...)` instead.\n",
      "  with amp.autocast(autocast):\n"
     ]
    },
    {
     "name": "stdout",
     "output_type": "stream",
     "text": [
      "Unexpected data type for result: <class 'str'>\n",
      "Unexpected data type for result: <class 'str'>\n",
      "Unexpected data type for result: <class 'str'>\n",
      "Unexpected data type for result: <class 'str'>\n",
      "Unexpected data type for result: <class 'str'>\n",
      "Unexpected data type for result: <class 'str'>\n",
      "Unexpected data type for result: <class 'str'>\n"
     ]
    },
    {
     "name": "stderr",
     "output_type": "stream",
     "text": [
      "C:\\Users\\Lenovo\\DEVELOPERS SECTION\\Cheque_detection_minor\\yolov5\\models\\common.py:892: FutureWarning: `torch.cuda.amp.autocast(args...)` is deprecated. Please use `torch.amp.autocast('cuda', args...)` instead.\n",
      "  with amp.autocast(autocast):\n"
     ]
    },
    {
     "name": "stdout",
     "output_type": "stream",
     "text": [
      "Unexpected data type for result: <class 'str'>\n",
      "Unexpected data type for result: <class 'str'>\n",
      "Unexpected data type for result: <class 'str'>\n",
      "Unexpected data type for result: <class 'str'>\n",
      "Unexpected data type for result: <class 'str'>\n",
      "Unexpected data type for result: <class 'str'>\n",
      "Unexpected data type for result: <class 'str'>\n"
     ]
    },
    {
     "name": "stderr",
     "output_type": "stream",
     "text": [
      "C:\\Users\\Lenovo\\DEVELOPERS SECTION\\Cheque_detection_minor\\yolov5\\models\\common.py:892: FutureWarning: `torch.cuda.amp.autocast(args...)` is deprecated. Please use `torch.amp.autocast('cuda', args...)` instead.\n",
      "  with amp.autocast(autocast):\n"
     ]
    },
    {
     "name": "stdout",
     "output_type": "stream",
     "text": [
      "Unexpected data type for result: <class 'str'>\n",
      "Unexpected data type for result: <class 'str'>\n",
      "Unexpected data type for result: <class 'str'>\n",
      "Unexpected data type for result: <class 'str'>\n",
      "Unexpected data type for result: <class 'str'>\n",
      "Unexpected data type for result: <class 'str'>\n",
      "Unexpected data type for result: <class 'str'>\n"
     ]
    },
    {
     "name": "stderr",
     "output_type": "stream",
     "text": [
      "C:\\Users\\Lenovo\\DEVELOPERS SECTION\\Cheque_detection_minor\\yolov5\\models\\common.py:892: FutureWarning: `torch.cuda.amp.autocast(args...)` is deprecated. Please use `torch.amp.autocast('cuda', args...)` instead.\n",
      "  with amp.autocast(autocast):\n"
     ]
    },
    {
     "name": "stdout",
     "output_type": "stream",
     "text": [
      "Unexpected data type for result: <class 'str'>\n",
      "Unexpected data type for result: <class 'str'>\n",
      "Unexpected data type for result: <class 'str'>\n",
      "Unexpected data type for result: <class 'str'>\n",
      "Unexpected data type for result: <class 'str'>\n",
      "Unexpected data type for result: <class 'str'>\n",
      "Unexpected data type for result: <class 'str'>\n"
     ]
    },
    {
     "name": "stderr",
     "output_type": "stream",
     "text": [
      "C:\\Users\\Lenovo\\DEVELOPERS SECTION\\Cheque_detection_minor\\yolov5\\models\\common.py:892: FutureWarning: `torch.cuda.amp.autocast(args...)` is deprecated. Please use `torch.amp.autocast('cuda', args...)` instead.\n",
      "  with amp.autocast(autocast):\n"
     ]
    },
    {
     "name": "stdout",
     "output_type": "stream",
     "text": [
      "Unexpected data type for result: <class 'str'>\n",
      "Unexpected data type for result: <class 'str'>\n",
      "Unexpected data type for result: <class 'str'>\n",
      "Unexpected data type for result: <class 'str'>\n",
      "Unexpected data type for result: <class 'str'>\n",
      "Unexpected data type for result: <class 'str'>\n",
      "Unexpected data type for result: <class 'str'>\n"
     ]
    },
    {
     "name": "stderr",
     "output_type": "stream",
     "text": [
      "C:\\Users\\Lenovo\\DEVELOPERS SECTION\\Cheque_detection_minor\\yolov5\\models\\common.py:892: FutureWarning: `torch.cuda.amp.autocast(args...)` is deprecated. Please use `torch.amp.autocast('cuda', args...)` instead.\n",
      "  with amp.autocast(autocast):\n"
     ]
    },
    {
     "name": "stdout",
     "output_type": "stream",
     "text": [
      "Unexpected data type for result: <class 'str'>\n",
      "Unexpected data type for result: <class 'str'>\n",
      "Unexpected data type for result: <class 'str'>\n",
      "Unexpected data type for result: <class 'str'>\n",
      "Unexpected data type for result: <class 'str'>\n",
      "Unexpected data type for result: <class 'str'>\n",
      "Unexpected data type for result: <class 'str'>\n"
     ]
    },
    {
     "name": "stderr",
     "output_type": "stream",
     "text": [
      "C:\\Users\\Lenovo\\DEVELOPERS SECTION\\Cheque_detection_minor\\yolov5\\models\\common.py:892: FutureWarning: `torch.cuda.amp.autocast(args...)` is deprecated. Please use `torch.amp.autocast('cuda', args...)` instead.\n",
      "  with amp.autocast(autocast):\n"
     ]
    },
    {
     "name": "stdout",
     "output_type": "stream",
     "text": [
      "Unexpected data type for result: <class 'str'>\n",
      "Unexpected data type for result: <class 'str'>\n",
      "Unexpected data type for result: <class 'str'>\n",
      "Unexpected data type for result: <class 'str'>\n",
      "Unexpected data type for result: <class 'str'>\n",
      "Unexpected data type for result: <class 'str'>\n",
      "Unexpected data type for result: <class 'str'>\n"
     ]
    },
    {
     "name": "stderr",
     "output_type": "stream",
     "text": [
      "C:\\Users\\Lenovo\\DEVELOPERS SECTION\\Cheque_detection_minor\\yolov5\\models\\common.py:892: FutureWarning: `torch.cuda.amp.autocast(args...)` is deprecated. Please use `torch.amp.autocast('cuda', args...)` instead.\n",
      "  with amp.autocast(autocast):\n"
     ]
    },
    {
     "name": "stdout",
     "output_type": "stream",
     "text": [
      "Unexpected data type for result: <class 'str'>\n",
      "Unexpected data type for result: <class 'str'>\n",
      "Unexpected data type for result: <class 'str'>\n",
      "Unexpected data type for result: <class 'str'>\n",
      "Unexpected data type for result: <class 'str'>\n",
      "Unexpected data type for result: <class 'str'>\n",
      "Unexpected data type for result: <class 'str'>\n"
     ]
    },
    {
     "name": "stderr",
     "output_type": "stream",
     "text": [
      "C:\\Users\\Lenovo\\DEVELOPERS SECTION\\Cheque_detection_minor\\yolov5\\models\\common.py:892: FutureWarning: `torch.cuda.amp.autocast(args...)` is deprecated. Please use `torch.amp.autocast('cuda', args...)` instead.\n",
      "  with amp.autocast(autocast):\n"
     ]
    },
    {
     "name": "stdout",
     "output_type": "stream",
     "text": [
      "Unexpected data type for result: <class 'str'>\n",
      "Unexpected data type for result: <class 'str'>\n",
      "Unexpected data type for result: <class 'str'>\n",
      "Unexpected data type for result: <class 'str'>\n",
      "Unexpected data type for result: <class 'str'>\n",
      "Unexpected data type for result: <class 'str'>\n",
      "Unexpected data type for result: <class 'str'>\n"
     ]
    },
    {
     "name": "stderr",
     "output_type": "stream",
     "text": [
      "C:\\Users\\Lenovo\\DEVELOPERS SECTION\\Cheque_detection_minor\\yolov5\\models\\common.py:892: FutureWarning: `torch.cuda.amp.autocast(args...)` is deprecated. Please use `torch.amp.autocast('cuda', args...)` instead.\n",
      "  with amp.autocast(autocast):\n"
     ]
    },
    {
     "name": "stdout",
     "output_type": "stream",
     "text": [
      "Unexpected data type for result: <class 'str'>\n",
      "Unexpected data type for result: <class 'str'>\n",
      "Unexpected data type for result: <class 'str'>\n",
      "Unexpected data type for result: <class 'str'>\n",
      "Unexpected data type for result: <class 'str'>\n",
      "Unexpected data type for result: <class 'str'>\n",
      "Unexpected data type for result: <class 'str'>\n"
     ]
    },
    {
     "name": "stderr",
     "output_type": "stream",
     "text": [
      "C:\\Users\\Lenovo\\DEVELOPERS SECTION\\Cheque_detection_minor\\yolov5\\models\\common.py:892: FutureWarning: `torch.cuda.amp.autocast(args...)` is deprecated. Please use `torch.amp.autocast('cuda', args...)` instead.\n",
      "  with amp.autocast(autocast):\n"
     ]
    },
    {
     "name": "stdout",
     "output_type": "stream",
     "text": [
      "Unexpected data type for result: <class 'str'>\n",
      "Unexpected data type for result: <class 'str'>\n",
      "Unexpected data type for result: <class 'str'>\n",
      "Unexpected data type for result: <class 'str'>\n",
      "Unexpected data type for result: <class 'str'>\n",
      "Unexpected data type for result: <class 'str'>\n",
      "Unexpected data type for result: <class 'str'>\n"
     ]
    },
    {
     "name": "stderr",
     "output_type": "stream",
     "text": [
      "C:\\Users\\Lenovo\\DEVELOPERS SECTION\\Cheque_detection_minor\\yolov5\\models\\common.py:892: FutureWarning: `torch.cuda.amp.autocast(args...)` is deprecated. Please use `torch.amp.autocast('cuda', args...)` instead.\n",
      "  with amp.autocast(autocast):\n"
     ]
    },
    {
     "name": "stdout",
     "output_type": "stream",
     "text": [
      "Unexpected data type for result: <class 'str'>\n",
      "Unexpected data type for result: <class 'str'>\n",
      "Unexpected data type for result: <class 'str'>\n",
      "Unexpected data type for result: <class 'str'>\n",
      "Unexpected data type for result: <class 'str'>\n",
      "Unexpected data type for result: <class 'str'>\n",
      "Unexpected data type for result: <class 'str'>\n"
     ]
    },
    {
     "name": "stderr",
     "output_type": "stream",
     "text": [
      "C:\\Users\\Lenovo\\DEVELOPERS SECTION\\Cheque_detection_minor\\yolov5\\models\\common.py:892: FutureWarning: `torch.cuda.amp.autocast(args...)` is deprecated. Please use `torch.amp.autocast('cuda', args...)` instead.\n",
      "  with amp.autocast(autocast):\n"
     ]
    },
    {
     "name": "stdout",
     "output_type": "stream",
     "text": [
      "Unexpected data type for result: <class 'str'>\n",
      "Unexpected data type for result: <class 'str'>\n",
      "Unexpected data type for result: <class 'str'>\n",
      "Unexpected data type for result: <class 'str'>\n",
      "Unexpected data type for result: <class 'str'>\n",
      "Unexpected data type for result: <class 'str'>\n",
      "Unexpected data type for result: <class 'str'>\n"
     ]
    },
    {
     "name": "stderr",
     "output_type": "stream",
     "text": [
      "C:\\Users\\Lenovo\\DEVELOPERS SECTION\\Cheque_detection_minor\\yolov5\\models\\common.py:892: FutureWarning: `torch.cuda.amp.autocast(args...)` is deprecated. Please use `torch.amp.autocast('cuda', args...)` instead.\n",
      "  with amp.autocast(autocast):\n"
     ]
    },
    {
     "name": "stdout",
     "output_type": "stream",
     "text": [
      "Unexpected data type for result: <class 'str'>\n",
      "Unexpected data type for result: <class 'str'>\n",
      "Unexpected data type for result: <class 'str'>\n",
      "Unexpected data type for result: <class 'str'>\n",
      "Unexpected data type for result: <class 'str'>\n",
      "Unexpected data type for result: <class 'str'>\n",
      "Unexpected data type for result: <class 'str'>\n"
     ]
    },
    {
     "name": "stderr",
     "output_type": "stream",
     "text": [
      "C:\\Users\\Lenovo\\DEVELOPERS SECTION\\Cheque_detection_minor\\yolov5\\models\\common.py:892: FutureWarning: `torch.cuda.amp.autocast(args...)` is deprecated. Please use `torch.amp.autocast('cuda', args...)` instead.\n",
      "  with amp.autocast(autocast):\n"
     ]
    },
    {
     "name": "stdout",
     "output_type": "stream",
     "text": [
      "Unexpected data type for result: <class 'str'>\n",
      "Unexpected data type for result: <class 'str'>\n",
      "Unexpected data type for result: <class 'str'>\n",
      "Unexpected data type for result: <class 'str'>\n",
      "Unexpected data type for result: <class 'str'>\n",
      "Unexpected data type for result: <class 'str'>\n",
      "Unexpected data type for result: <class 'str'>\n"
     ]
    },
    {
     "name": "stderr",
     "output_type": "stream",
     "text": [
      "C:\\Users\\Lenovo\\DEVELOPERS SECTION\\Cheque_detection_minor\\yolov5\\models\\common.py:892: FutureWarning: `torch.cuda.amp.autocast(args...)` is deprecated. Please use `torch.amp.autocast('cuda', args...)` instead.\n",
      "  with amp.autocast(autocast):\n"
     ]
    },
    {
     "name": "stdout",
     "output_type": "stream",
     "text": [
      "Unexpected data type for result: <class 'str'>\n",
      "Unexpected data type for result: <class 'str'>\n",
      "Unexpected data type for result: <class 'str'>\n",
      "Unexpected data type for result: <class 'str'>\n",
      "Unexpected data type for result: <class 'str'>\n",
      "Unexpected data type for result: <class 'str'>\n",
      "Unexpected data type for result: <class 'str'>\n"
     ]
    }
   ],
   "source": [
    "from pathlib import Path\n",
    "\n",
    "# Load YOLOv5 model (replace 'yolov5s.pt' with your downloaded weights)\n",
    "model = torch.hub.load('yolov5', 'yolov5s', source='local')\n",
    "\n",
    "def detect_text_fields(image):\n",
    "    \"\"\"\n",
    "    Detects text fields in an image and returns their bounding boxes.\n",
    "\n",
    "    Args:\n",
    "        image: A PIL image object.\n",
    "\n",
    "    Returns:\n",
    "        A list of tuples, where each tuple represents the bounding box of a detected text field\n",
    "        in the format (x1, y1, x2, y2).\n",
    "    \"\"\"\n",
    "\n",
    "    results = model(image)\n",
    "\n",
    "    text_fields = []\n",
    "    for result in results.pandas().xyxy[0]:\n",
    "        if isinstance(result, dict):  # Check if result is a dictionary\n",
    "            name = result.get('name', None)\n",
    "            if name in ['payee', 'amount', 'date']:\n",
    "                try:\n",
    "                    x1, y1, x2, y2, conf = result.values\n",
    "                    text_fields.append((int(x1), int(y1), int(x2), int(y2)))\n",
    "                except Exception as e:  # Catch potential errors\n",
    "                    print(f\"Error processing result: {e}\")\n",
    "        else:\n",
    "            print(f\"Unexpected data type for result: {type(result)}\")\n",
    "\n",
    "    return text_fields\n",
    "\n",
    "# Integrate object detection into your pipeline:\n",
    "for image in image_list:\n",
    "    text_fields = detect_text_fields(image)\n",
    "    # Use detected bounding boxes for further processing (e.g., crop and segment characters)"
   ]
  },
  {
   "cell_type": "code",
   "execution_count": null,
   "id": "8b9f9c45-9d1e-4664-aca8-0a57e51244a3",
   "metadata": {},
   "outputs": [],
   "source": []
  }
 ],
 "metadata": {
  "kernelspec": {
   "display_name": "Python 3 (ipykernel)",
   "language": "python",
   "name": "python3"
  },
  "language_info": {
   "codemirror_mode": {
    "name": "ipython",
    "version": 3
   },
   "file_extension": ".py",
   "mimetype": "text/x-python",
   "name": "python",
   "nbconvert_exporter": "python",
   "pygments_lexer": "ipython3",
   "version": "3.12.4"
  }
 },
 "nbformat": 4,
 "nbformat_minor": 5
}
